{
 "cells": [
  {
   "cell_type": "code",
   "execution_count": 2,
   "id": "711571d9-2dcd-4ca8-b831-dc974193b93a",
   "metadata": {
    "tags": []
   },
   "outputs": [],
   "source": [
    "import requests as req\n",
    "import time\n",
    "import pandas as pd\n"
   ]
  },
  {
   "cell_type": "code",
   "execution_count": 3,
   "id": "78ddc9c2-a59a-494d-a498-603c54bac216",
   "metadata": {
    "tags": []
   },
   "outputs": [],
   "source": [
    "#https://medium.com/codex/web-scraping-the-new-york-times-articles-with-python-part-i-e2d6fc02d4e0\n",
    "API_KEY = \"5cbst07gUvIjdFwF1A61wh18GnYX5GSA\"\n",
    "TOPIC='Climate Change' # keyword\n",
    "2024\n",
    "url=f\"https://api.nytimes.com/svc/search/v2/articlesearch.json?q={TOPIC}&api-key={API_KEY}\"\n",
    "\"https://api.nytimes.com/svc/archive/v1/%7Byear%7D/%7Bmonth%7D.json?\"\n",
    "response = req.get(url).json()"
   ]
  },
  {
   "cell_type": "code",
   "execution_count": 4,
   "id": "ce95a8ed-b575-4467-9cbb-74a503ea91b8",
   "metadata": {
    "tags": []
   },
   "outputs": [
    {
     "data": {
      "text/plain": [
       "dict_keys(['status', 'copyright', 'response'])"
      ]
     },
     "execution_count": 4,
     "metadata": {},
     "output_type": "execute_result"
    }
   ],
   "source": [
    "response.keys()"
   ]
  },
  {
   "cell_type": "code",
   "execution_count": 5,
   "id": "457b43f5-da63-4a03-8964-5ff1342fa653",
   "metadata": {
    "tags": []
   },
   "outputs": [],
   "source": [
    "data = pd.DataFrame(response['response'][\"docs\"])"
   ]
  },
  {
   "cell_type": "code",
   "execution_count": 6,
   "id": "4aba4eae-5635-4589-b455-22c0b5421f42",
   "metadata": {
    "tags": []
   },
   "outputs": [
    {
     "data": {
      "text/plain": [
       "'https://www.nytimes.com/2024/04/15/opinion/climate-change-long-problems.html'"
      ]
     },
     "execution_count": 6,
     "metadata": {},
     "output_type": "execute_result"
    }
   ],
   "source": [
    "data.web_url[1]\n"
   ]
  },
  {
   "cell_type": "code",
   "execution_count": 7,
   "id": "5d86c0f5-f890-479f-ba9f-154aa0334e03",
   "metadata": {
    "tags": []
   },
   "outputs": [
    {
     "data": {
      "text/plain": [
       "{'rank': 0,\n",
       " 'subtype': 'popup',\n",
       " 'caption': None,\n",
       " 'credit': None,\n",
       " 'type': 'image',\n",
       " 'url': 'images/2024/04/15/opinion/15coy-newsletter-image/15coy-newsletter-image-popup.jpg',\n",
       " 'height': 500,\n",
       " 'width': 500,\n",
       " 'legacy': {},\n",
       " 'subType': 'popup',\n",
       " 'crop_name': 'popup'}"
      ]
     },
     "execution_count": 7,
     "metadata": {},
     "output_type": "execute_result"
    }
   ],
   "source": [
    "data[\"multimedia\"][1][1]\n"
   ]
  },
  {
   "cell_type": "code",
   "execution_count": 6,
   "id": "6ed16807-5fbc-481e-bdb3-d2d7ffe11e7b",
   "metadata": {},
   "outputs": [
    {
     "data": {
      "text/plain": [
       "('images/img1.png', <http.client.HTTPMessage at 0x135264950>)"
      ]
     },
     "execution_count": 6,
     "metadata": {},
     "output_type": "execute_result"
    }
   ],
   "source": [
    "# https://github.com/nytimes/public_api_specs/issues/52\n",
    "import urllib.request \n",
    "from PIL import Image \n",
    "  \n",
    "# Retrieving the resource located at the URL \n",
    "# and storing it in the file name a.png \n",
    "url = \"https://www.nytimes.com/images/2024/04/09/books/review/09Aldern/09Aldern-articleLarge.jpg\" \n",
    "urllib.request.urlretrieve(url, \"images/img1.png\") \n",
    "#requests.get(url, stream = True)\n",
    "\n"
   ]
  },
  {
   "cell_type": "code",
   "execution_count": null,
   "id": "f37ae1e9-9fa4-41c7-92a8-feb6212d13f6",
   "metadata": {},
   "outputs": [],
   "source": [
    "# Opening the image and displaying it (to confirm its presence) \n",
    "img = Image.open(r\"img.png\") \n",
    "img.show()\n"
   ]
  },
  {
   "cell_type": "code",
   "execution_count": 43,
   "id": "563082d6-a976-4f1d-8adb-3f853582ef50",
   "metadata": {},
   "outputs": [],
   "source": [
    "#https://github.com/ovh/ai-training-examples/blob/main/notebooks/computer-vision/image-classification/tensorflow/resnet50/notebook-resnet-transfer-learning-image-classification.ipynb"
   ]
  },
  {
   "cell_type": "code",
   "execution_count": null,
   "id": "51c79b99-6271-4d23-8deb-99597252e7d6",
   "metadata": {},
   "outputs": [],
   "source": [
    "#https://martinheinz.dev/blog/31"
   ]
  },
  {
   "cell_type": "code",
   "execution_count": 16,
   "id": "ecb71d03-386e-4b47-b1e9-d006130c6110",
   "metadata": {},
   "outputs": [],
   "source": [
    "year = 2024\n",
    "month = 2\n",
    "url = f\"https://api.nytimes.com/svc/archive/v1/{year}/{month}.json\""
   ]
  },
  {
   "cell_type": "code",
   "execution_count": 21,
   "id": "b0102dec-3be3-4b53-8f17-22e346806dbf",
   "metadata": {},
   "outputs": [],
   "source": [
    " # Parameters (if any)\n",
    "params = {'api-key': API_KEY}\n",
    "\n",
    "# Make the GET request\n",
    "response = req.get(url, params=params)\n"
   ]
  },
  {
   "cell_type": "code",
   "execution_count": 24,
   "id": "6cf79688-2c72-498b-9e3f-532be1c9e1a1",
   "metadata": {},
   "outputs": [],
   "source": [
    "#response.json()"
   ]
  },
  {
   "cell_type": "code",
   "execution_count": 25,
   "id": "13ead73a-91e0-48ad-9fd1-9abb84ebe4bb",
   "metadata": {},
   "outputs": [
    {
     "ename": "IndentationError",
     "evalue": "unexpected indent (2202327946.py, line 13)",
     "output_type": "error",
     "traceback": [
      "\u001b[0;36m  Cell \u001b[0;32mIn[25], line 13\u001b[0;36m\u001b[0m\n\u001b[0;31m    f\"&page={page}\" \\\u001b[0m\n\u001b[0m    ^\u001b[0m\n\u001b[0;31mIndentationError\u001b[0m\u001b[0;31m:\u001b[0m unexpected indent\n"
     ]
    }
   ],
   "source": [
    "apikey = \"5cbst07gUvIjdFwF1A61wh18GnYX5GSA\"\n",
    "query = \"climate change\"\n",
    "begin_date = \"20240101\"  # YYYYMMDD\n",
    "#filter_query = \"\\\"body:(\\\"Trump\\\") AND glocations:(\\\"WASHINGTON\\\")\\\"\"  # http://www.lucenetutorial.com/lucene-query-syntax.html\n",
    "page = \"0\"  # <0-100>\n",
    "sort = \"relevance\"  # newest, oldest\n",
    "\n",
    "query_url = f\"https://api.nytimes.com/svc/search/v2/articlesearch.json?\" \\\n",
    "            f\"q={query}\" \\\n",
    "            f\"&api-key={apikey}\" \\\n",
    "            f\"&begin_date={begin_date}\" \\\n",
    "            #f\"&fq={filter_query}\" \\\n",
    "            f\"&page={page}\" \\\n",
    "            f\"&sort={sort}\"\n",
    "\n",
    "r = requests.get(query_url)\n",
    "pprint(r.json())"
   ]
  },
  {
   "cell_type": "code",
   "execution_count": 82,
   "id": "0bfcd2c4-8031-4cee-ae0f-9af581be34fe",
   "metadata": {
    "tags": []
   },
   "outputs": [],
   "source": [
    "import requests\n",
    "from pprint import pprint\n",
    "\n",
    "apikey = \"5cbst07gUvIjdFwF1A61wh18GnYX5GSA\"\n",
    "\n",
    "query = \"climate&change\"\n",
    "begin_date = \"20240101\"  # YYYYMMDD\n",
    "filter_query = \"\\\"body:(\\\"Trump\\\") AND glocations:(\\\"WASHINGTON\\\")\\\"\"  # http://www.lucenetutorial.com/lucene-query-syntax.html\n",
    "page = \"0\"  # <0-100>\n",
    "sort = \"relevance\"  # newest, oldest\n",
    "query_url = f\"https://api.nytimes.com/svc/search/v2/articlesearch.json?\" \\\n",
    "            f\"q={query}\" \\\n",
    "            f\"&api-key={apikey}\" \\\n",
    "            f\"&begin_date={begin_date}\" \\\n",
    "            f\"&sort={sort}\"\n",
    "\n",
    "r = requests.get(query_url).json()\n",
    "#pprint(r)"
   ]
  },
  {
   "cell_type": "code",
   "execution_count": 83,
   "id": "959a3717-c2ec-4cfb-91a3-7b63d50e1b7a",
   "metadata": {
    "tags": []
   },
   "outputs": [],
   "source": [
    "data = pd.DataFrame(r[\"response\"][\"docs\"])"
   ]
  },
  {
   "cell_type": "code",
   "execution_count": 84,
   "id": "08832370-0f62-4bd5-afd2-c1a5cdef322a",
   "metadata": {
    "tags": []
   },
   "outputs": [],
   "source": [
    "data[\"multimedia\"][0][0][\"url\"]\n",
    "\n",
    "data[\"img_url\"] = data[\"multimedia\"].apply(lambda x: f\"https://www.nytimes.com/{x[0]['url']}\")\n"
   ]
  },
  {
   "cell_type": "code",
   "execution_count": 94,
   "id": "15d4579a-cdc9-407b-b84a-ffeac64e8fe3",
   "metadata": {
    "tags": []
   },
   "outputs": [
    {
     "data": {
      "text/plain": [
       "'https://www.nytimes.com/images/2024/04/11/multimedia/11cli-monuments-fklw/11cli-monuments-fklw-articleLarge.jpg'"
      ]
     },
     "execution_count": 94,
     "metadata": {},
     "output_type": "execute_result"
    }
   ],
   "source": [
    "data[\"img_url\"][8]"
   ]
  },
  {
   "cell_type": "code",
   "execution_count": 24,
   "id": "2b79b3b4-219f-47a4-adaa-e5212d47b035",
   "metadata": {
    "tags": []
   },
   "outputs": [
    {
     "data": {
      "text/html": [
       "<div>\n",
       "<style scoped>\n",
       "    .dataframe tbody tr th:only-of-type {\n",
       "        vertical-align: middle;\n",
       "    }\n",
       "\n",
       "    .dataframe tbody tr th {\n",
       "        vertical-align: top;\n",
       "    }\n",
       "\n",
       "    .dataframe thead th {\n",
       "        text-align: right;\n",
       "    }\n",
       "</style>\n",
       "<table border=\"1\" class=\"dataframe\">\n",
       "  <thead>\n",
       "    <tr style=\"text-align: right;\">\n",
       "      <th></th>\n",
       "      <th>abstract</th>\n",
       "      <th>web_url</th>\n",
       "      <th>snippet</th>\n",
       "      <th>lead_paragraph</th>\n",
       "      <th>source</th>\n",
       "      <th>multimedia</th>\n",
       "      <th>headline</th>\n",
       "      <th>keywords</th>\n",
       "      <th>pub_date</th>\n",
       "      <th>document_type</th>\n",
       "      <th>...</th>\n",
       "      <th>section_name</th>\n",
       "      <th>subsection_name</th>\n",
       "      <th>byline</th>\n",
       "      <th>type_of_material</th>\n",
       "      <th>_id</th>\n",
       "      <th>word_count</th>\n",
       "      <th>uri</th>\n",
       "      <th>print_section</th>\n",
       "      <th>print_page</th>\n",
       "      <th>img_url</th>\n",
       "    </tr>\n",
       "  </thead>\n",
       "  <tbody>\n",
       "    <tr>\n",
       "      <th>0</th>\n",
       "      <td>From dolphins with Alzheimer’s to cranky traff...</td>\n",
       "      <td>https://www.nytimes.com/2024/04/09/books/revie...</td>\n",
       "      <td>From dolphins with Alzheimer’s to cranky traff...</td>\n",
       "      <td>We know, often with abject precision, what cli...</td>\n",
       "      <td>The New York Times</td>\n",
       "      <td>[{'rank': 0, 'subtype': 'xlarge', 'caption': N...</td>\n",
       "      <td>{'main': 'Climate Change Is Making Us Paranoid...</td>\n",
       "      <td>[{'name': 'subject', 'value': 'Global Warming'...</td>\n",
       "      <td>2024-04-09T09:01:06+0000</td>\n",
       "      <td>article</td>\n",
       "      <td>...</td>\n",
       "      <td>Books</td>\n",
       "      <td>Book Review</td>\n",
       "      <td>{'original': 'By Nathaniel Rich', 'person': [{...</td>\n",
       "      <td>Review</td>\n",
       "      <td>nyt://article/5d7d72a2-6fb0-5533-adef-c11cfe29...</td>\n",
       "      <td>1078</td>\n",
       "      <td>nyt://article/5d7d72a2-6fb0-5533-adef-c11cfe29...</td>\n",
       "      <td>NaN</td>\n",
       "      <td>NaN</td>\n",
       "      <td>https://www.nytimes.com/images/2024/04/09/book...</td>\n",
       "    </tr>\n",
       "    <tr>\n",
       "      <th>1</th>\n",
       "      <td>Our institutions are bad at solving “long prob...</td>\n",
       "      <td>https://www.nytimes.com/2024/04/15/opinion/cli...</td>\n",
       "      <td>Our institutions are bad at solving “long prob...</td>\n",
       "      <td>Science alone won’t stop the planet from overh...</td>\n",
       "      <td>The New York Times</td>\n",
       "      <td>[{'rank': 0, 'subtype': 'xlarge', 'caption': N...</td>\n",
       "      <td>{'main': 'To Fight Climate Change, We Need New...</td>\n",
       "      <td>[{'name': 'subject', 'value': 'Alternative and...</td>\n",
       "      <td>2024-04-15T19:00:03+0000</td>\n",
       "      <td>article</td>\n",
       "      <td>...</td>\n",
       "      <td>Opinion</td>\n",
       "      <td>NaN</td>\n",
       "      <td>{'original': 'By Peter Coy', 'person': [{'firs...</td>\n",
       "      <td>Op-Ed</td>\n",
       "      <td>nyt://article/20cd2268-2429-5b49-991b-74d60f0b...</td>\n",
       "      <td>1046</td>\n",
       "      <td>nyt://article/20cd2268-2429-5b49-991b-74d60f0b...</td>\n",
       "      <td>NaN</td>\n",
       "      <td>NaN</td>\n",
       "      <td>https://www.nytimes.com/images/2024/04/15/opin...</td>\n",
       "    </tr>\n",
       "    <tr>\n",
       "      <th>2</th>\n",
       "      <td>Climate change is making heat waves linger for...</td>\n",
       "      <td>https://www.nytimes.com/2024/03/29/climate/hea...</td>\n",
       "      <td>Climate change is making heat waves linger for...</td>\n",
       "      <td>When heat waves swept across large parts of th...</td>\n",
       "      <td>The New York Times</td>\n",
       "      <td>[{'rank': 0, 'subtype': 'xlarge', 'caption': N...</td>\n",
       "      <td>{'main': 'Heat Waves Are Moving Slower and Sta...</td>\n",
       "      <td>[{'name': 'subject', 'value': 'Heat and Heat W...</td>\n",
       "      <td>2024-03-29T18:00:06+0000</td>\n",
       "      <td>article</td>\n",
       "      <td>...</td>\n",
       "      <td>Climate</td>\n",
       "      <td>NaN</td>\n",
       "      <td>{'original': 'By Delger Erdenesanaa', 'person'...</td>\n",
       "      <td>News</td>\n",
       "      <td>nyt://article/d56d317f-6f04-5abc-94ac-61e14628...</td>\n",
       "      <td>862</td>\n",
       "      <td>nyt://article/d56d317f-6f04-5abc-94ac-61e14628...</td>\n",
       "      <td>A</td>\n",
       "      <td>12</td>\n",
       "      <td>https://www.nytimes.com/images/2024/03/29/mult...</td>\n",
       "    </tr>\n",
       "    <tr>\n",
       "      <th>3</th>\n",
       "      <td>Temperatures in the region rose above 40 degre...</td>\n",
       "      <td>https://www.nytimes.com/2024/03/21/climate/cli...</td>\n",
       "      <td>Temperatures in the region rose above 40 degre...</td>\n",
       "      <td>A remarkably early, record-breaking heat wave ...</td>\n",
       "      <td>The New York Times</td>\n",
       "      <td>[{'rank': 0, 'subtype': 'xlarge', 'caption': N...</td>\n",
       "      <td>{'main': 'Climate Change Made an Early Heat Wa...</td>\n",
       "      <td>[{'name': 'subject', 'value': 'Global Warming'...</td>\n",
       "      <td>2024-03-21T06:01:06+0000</td>\n",
       "      <td>article</td>\n",
       "      <td>...</td>\n",
       "      <td>Climate</td>\n",
       "      <td>NaN</td>\n",
       "      <td>{'original': 'By Delger Erdenesanaa', 'person'...</td>\n",
       "      <td>News</td>\n",
       "      <td>nyt://article/18b45ccf-3107-5e3c-b8ab-9101da3f...</td>\n",
       "      <td>468</td>\n",
       "      <td>nyt://article/18b45ccf-3107-5e3c-b8ab-9101da3f...</td>\n",
       "      <td>A</td>\n",
       "      <td>10</td>\n",
       "      <td>https://www.nytimes.com/images/2024/03/21/clim...</td>\n",
       "    </tr>\n",
       "    <tr>\n",
       "      <th>4</th>\n",
       "      <td>From airlines to pork sellers, corporate brand...</td>\n",
       "      <td>https://www.nytimes.com/2024/04/12/climate/cli...</td>\n",
       "      <td>From airlines to pork sellers, corporate brand...</td>\n",
       "      <td>A “climate-controlled” sausage. New trousers l...</td>\n",
       "      <td>The New York Times</td>\n",
       "      <td>[{'rank': 0, 'subtype': 'xlarge', 'caption': N...</td>\n",
       "      <td>{'main': '‘Climate-Controlled’ Sausage? Courts...</td>\n",
       "      <td>[{'name': 'subject', 'value': 'Global Warming'...</td>\n",
       "      <td>2024-04-12T22:36:32+0000</td>\n",
       "      <td>article</td>\n",
       "      <td>...</td>\n",
       "      <td>Climate</td>\n",
       "      <td>NaN</td>\n",
       "      <td>{'original': 'By Somini Sengupta', 'person': [...</td>\n",
       "      <td>News</td>\n",
       "      <td>nyt://article/296e6d59-7af3-5196-9696-249b9066...</td>\n",
       "      <td>838</td>\n",
       "      <td>nyt://article/296e6d59-7af3-5196-9696-249b9066...</td>\n",
       "      <td>NaN</td>\n",
       "      <td>NaN</td>\n",
       "      <td>https://www.nytimes.com/images/2024/04/12/clim...</td>\n",
       "    </tr>\n",
       "  </tbody>\n",
       "</table>\n",
       "<p>5 rows × 21 columns</p>\n",
       "</div>"
      ],
      "text/plain": [
       "                                            abstract  \\\n",
       "0  From dolphins with Alzheimer’s to cranky traff...   \n",
       "1  Our institutions are bad at solving “long prob...   \n",
       "2  Climate change is making heat waves linger for...   \n",
       "3  Temperatures in the region rose above 40 degre...   \n",
       "4  From airlines to pork sellers, corporate brand...   \n",
       "\n",
       "                                             web_url  \\\n",
       "0  https://www.nytimes.com/2024/04/09/books/revie...   \n",
       "1  https://www.nytimes.com/2024/04/15/opinion/cli...   \n",
       "2  https://www.nytimes.com/2024/03/29/climate/hea...   \n",
       "3  https://www.nytimes.com/2024/03/21/climate/cli...   \n",
       "4  https://www.nytimes.com/2024/04/12/climate/cli...   \n",
       "\n",
       "                                             snippet  \\\n",
       "0  From dolphins with Alzheimer’s to cranky traff...   \n",
       "1  Our institutions are bad at solving “long prob...   \n",
       "2  Climate change is making heat waves linger for...   \n",
       "3  Temperatures in the region rose above 40 degre...   \n",
       "4  From airlines to pork sellers, corporate brand...   \n",
       "\n",
       "                                      lead_paragraph              source  \\\n",
       "0  We know, often with abject precision, what cli...  The New York Times   \n",
       "1  Science alone won’t stop the planet from overh...  The New York Times   \n",
       "2  When heat waves swept across large parts of th...  The New York Times   \n",
       "3  A remarkably early, record-breaking heat wave ...  The New York Times   \n",
       "4  A “climate-controlled” sausage. New trousers l...  The New York Times   \n",
       "\n",
       "                                          multimedia  \\\n",
       "0  [{'rank': 0, 'subtype': 'xlarge', 'caption': N...   \n",
       "1  [{'rank': 0, 'subtype': 'xlarge', 'caption': N...   \n",
       "2  [{'rank': 0, 'subtype': 'xlarge', 'caption': N...   \n",
       "3  [{'rank': 0, 'subtype': 'xlarge', 'caption': N...   \n",
       "4  [{'rank': 0, 'subtype': 'xlarge', 'caption': N...   \n",
       "\n",
       "                                            headline  \\\n",
       "0  {'main': 'Climate Change Is Making Us Paranoid...   \n",
       "1  {'main': 'To Fight Climate Change, We Need New...   \n",
       "2  {'main': 'Heat Waves Are Moving Slower and Sta...   \n",
       "3  {'main': 'Climate Change Made an Early Heat Wa...   \n",
       "4  {'main': '‘Climate-Controlled’ Sausage? Courts...   \n",
       "\n",
       "                                            keywords  \\\n",
       "0  [{'name': 'subject', 'value': 'Global Warming'...   \n",
       "1  [{'name': 'subject', 'value': 'Alternative and...   \n",
       "2  [{'name': 'subject', 'value': 'Heat and Heat W...   \n",
       "3  [{'name': 'subject', 'value': 'Global Warming'...   \n",
       "4  [{'name': 'subject', 'value': 'Global Warming'...   \n",
       "\n",
       "                   pub_date document_type  ... section_name subsection_name  \\\n",
       "0  2024-04-09T09:01:06+0000       article  ...        Books     Book Review   \n",
       "1  2024-04-15T19:00:03+0000       article  ...      Opinion             NaN   \n",
       "2  2024-03-29T18:00:06+0000       article  ...      Climate             NaN   \n",
       "3  2024-03-21T06:01:06+0000       article  ...      Climate             NaN   \n",
       "4  2024-04-12T22:36:32+0000       article  ...      Climate             NaN   \n",
       "\n",
       "                                              byline type_of_material  \\\n",
       "0  {'original': 'By Nathaniel Rich', 'person': [{...           Review   \n",
       "1  {'original': 'By Peter Coy', 'person': [{'firs...            Op-Ed   \n",
       "2  {'original': 'By Delger Erdenesanaa', 'person'...             News   \n",
       "3  {'original': 'By Delger Erdenesanaa', 'person'...             News   \n",
       "4  {'original': 'By Somini Sengupta', 'person': [...             News   \n",
       "\n",
       "                                                 _id word_count  \\\n",
       "0  nyt://article/5d7d72a2-6fb0-5533-adef-c11cfe29...       1078   \n",
       "1  nyt://article/20cd2268-2429-5b49-991b-74d60f0b...       1046   \n",
       "2  nyt://article/d56d317f-6f04-5abc-94ac-61e14628...        862   \n",
       "3  nyt://article/18b45ccf-3107-5e3c-b8ab-9101da3f...        468   \n",
       "4  nyt://article/296e6d59-7af3-5196-9696-249b9066...        838   \n",
       "\n",
       "                                                 uri print_section print_page  \\\n",
       "0  nyt://article/5d7d72a2-6fb0-5533-adef-c11cfe29...           NaN        NaN   \n",
       "1  nyt://article/20cd2268-2429-5b49-991b-74d60f0b...           NaN        NaN   \n",
       "2  nyt://article/d56d317f-6f04-5abc-94ac-61e14628...             A         12   \n",
       "3  nyt://article/18b45ccf-3107-5e3c-b8ab-9101da3f...             A         10   \n",
       "4  nyt://article/296e6d59-7af3-5196-9696-249b9066...           NaN        NaN   \n",
       "\n",
       "                                             img_url  \n",
       "0  https://www.nytimes.com/images/2024/04/09/book...  \n",
       "1  https://www.nytimes.com/images/2024/04/15/opin...  \n",
       "2  https://www.nytimes.com/images/2024/03/29/mult...  \n",
       "3  https://www.nytimes.com/images/2024/03/21/clim...  \n",
       "4  https://www.nytimes.com/images/2024/04/12/clim...  \n",
       "\n",
       "[5 rows x 21 columns]"
      ]
     },
     "execution_count": 24,
     "metadata": {},
     "output_type": "execute_result"
    }
   ],
   "source": [
    "data.head()"
   ]
  },
  {
   "cell_type": "code",
   "execution_count": 78,
   "id": "0781e65f-4bd5-4d59-92c1-07a7dab5fdc1",
   "metadata": {
    "tags": []
   },
   "outputs": [],
   "source": [
    "apikey = \"5cbst07gUvIjdFwF1A61wh18GnYX5GSA\"\n",
    "query = \"climate&change\"\n",
    "begin_date = \"20100101\"  # YYYYMMDD\n",
    "end_date = \"20100501\"\n",
    "#filter_query = \"\\\"body:(\\\"Trump\\\") AND glocations:(\\\"WASHINGTON\\\")\\\"\"  # http://www.lucenetutorial.com/lucene-query-syntax.html\n",
    "page = \"0\"  # <0-100>\n",
    "sort = \"relevance\"  # newest, oldest\n",
    "query_url = f\"https://api.nytimes.com/svc/search/v2/articlesearch.json?\" \\\n",
    "            f\"q={query}\" \\\n",
    "            f\"&api-key={apikey}\" \\\n",
    "            f\"&begin_date={begin_date}\" \\\n",
    "            f\"&end_date={end_date}\" \\\n",
    "            f\"&sort={sort}\"\n",
    "\n",
    "q = requests.get(query_url).json()\n",
    "#pprint(r)"
   ]
  },
  {
   "cell_type": "code",
   "execution_count": 79,
   "id": "a901f5b2-f342-4e5c-a9ce-2f04866ea0da",
   "metadata": {
    "tags": []
   },
   "outputs": [],
   "source": [
    "data2 = pd.DataFrame(q[\"response\"][\"docs\"])"
   ]
  },
  {
   "cell_type": "code",
   "execution_count": null,
   "id": "a83d60da-1651-4264-b642-a61b29fceafb",
   "metadata": {
    "tags": []
   },
   "outputs": [],
   "source": []
  },
  {
   "cell_type": "code",
   "execution_count": 95,
   "id": "f5aada99-c2cb-484c-b164-2405e4457216",
   "metadata": {
    "tags": []
   },
   "outputs": [
    {
     "name": "stdout",
     "output_type": "stream",
     "text": [
      "{'copyright': 'Copyright (c) 2024 The New York Times Company. All Rights '\n",
      "              'Reserved.',\n",
      " 'response': {'docs': "
     ]
    },
    {
     "name": "stderr",
     "output_type": "stream",
     "text": [
      "IOPub data rate exceeded.\n",
      "The Jupyter server will temporarily stop sending output\n",
      "to the client in order to avoid crashing it.\n",
      "To change this limit, set the config variable\n",
      "`--ServerApp.iopub_data_rate_limit`.\n",
      "\n",
      "Current values:\n",
      "ServerApp.iopub_data_rate_limit=1000000.0 (bytes/sec)\n",
      "ServerApp.rate_limit_window=3.0 (secs)\n",
      "\n"
     ]
    }
   ],
   "source": [
    "year = \"2024\"  # <1851 - 2020>\n",
    "month = \"2\"  # <1 - 12>\n",
    "query_url = f\"https://api.nytimes.com/svc/archive/v1/{year}/{month}.json?api-key={apikey}\"\n",
    "\n",
    "r = requests.get(query_url)\n",
    "pprint(r.json())\n"
   ]
  },
  {
   "cell_type": "code",
   "execution_count": 97,
   "id": "930df1ff-4114-48a2-afa9-9f3fc376cf3f",
   "metadata": {
    "tags": []
   },
   "outputs": [
    {
     "ename": "AttributeError",
     "evalue": "'Response' object has no attribute 'keys'",
     "output_type": "error",
     "traceback": [
      "\u001b[0;31m---------------------------------------------------------------------------\u001b[0m",
      "\u001b[0;31mAttributeError\u001b[0m                            Traceback (most recent call last)",
      "Cell \u001b[0;32mIn[97], line 1\u001b[0m\n\u001b[0;32m----> 1\u001b[0m r\u001b[38;5;241m.\u001b[39mkeys()\n",
      "\u001b[0;31mAttributeError\u001b[0m: 'Response' object has no attribute 'keys'"
     ]
    }
   ],
   "source": [
    "r.keys()"
   ]
  },
  {
   "cell_type": "code",
   "execution_count": 61,
   "id": "0f042e6d-fc44-40de-a8cb-d0a74edf08d5",
   "metadata": {
    "tags": []
   },
   "outputs": [],
   "source": [
    "data2[\"img_url\"] = data2[\"multimedia\"].apply(lambda x: f\"https://www.nytimes.com/{x[0]['url']}\" if x else \"\")\n"
   ]
  },
  {
   "cell_type": "code",
   "execution_count": 77,
   "id": "ae41a6e0-8b8f-41d9-9f54-b259d4e5466f",
   "metadata": {
    "tags": []
   },
   "outputs": [
    {
     "data": {
      "text/plain": [
       "0    https://www.nytimes.com/images/2010/04/08/us/0...\n",
       "1                                                     \n",
       "2                                                     \n",
       "3                                                     \n",
       "4    https://www.nytimes.com/images/2010/04/20/scie...\n",
       "5                                                     \n",
       "6                                                     \n",
       "7    https://www.nytimes.com/images/2018/04/02/opin...\n",
       "8    https://www.nytimes.com/images/2010/04/07/worl...\n",
       "9    https://www.nytimes.com/images/2010/04/07/busi...\n",
       "Name: img_url, dtype: object"
      ]
     },
     "execution_count": 77,
     "metadata": {},
     "output_type": "execute_result"
    }
   ],
   "source": [
    "data2[\"img_url\"]"
   ]
  },
  {
   "cell_type": "code",
   "execution_count": 75,
   "id": "3ce472d4-6ee2-4f32-a953-824698457d12",
   "metadata": {
    "tags": []
   },
   "outputs": [
    {
     "data": {
      "text/plain": [
       "'An investor-backed nonprofit organization wants to put water consumption on par with carbon emissions as an environmental concern.'"
      ]
     },
     "execution_count": 75,
     "metadata": {},
     "output_type": "execute_result"
    }
   ],
   "source": [
    "data2[\"abstract\"][9]"
   ]
  },
  {
   "cell_type": "code",
   "execution_count": 51,
   "id": "413d52e6-3779-4b90-90f6-b07402e47412",
   "metadata": {},
   "outputs": [
    {
     "data": {
      "text/plain": [
       "(10, 20)"
      ]
     },
     "execution_count": 51,
     "metadata": {},
     "output_type": "execute_result"
    }
   ],
   "source": [
    "data.shape"
   ]
  },
  {
   "cell_type": "code",
   "execution_count": 44,
   "id": "e8fd50b8-7c55-4f05-80e4-7f88b368a37f",
   "metadata": {},
   "outputs": [
    {
     "data": {
      "text/plain": [
       "{'main': 'What Biden and Kishida Agreed To in Their Effort to Bolster Ties',\n",
       " 'kicker': None,\n",
       " 'content_kicker': None,\n",
       " 'print_headline': 'Visit Prompts Cooperation on Defense',\n",
       " 'name': None,\n",
       " 'seo': None,\n",
       " 'sub': None}"
      ]
     },
     "execution_count": 44,
     "metadata": {},
     "output_type": "execute_result"
    }
   ],
   "source": [
    "data.headline[1]"
   ]
  },
  {
   "cell_type": "code",
   "execution_count": 47,
   "id": "6e93ef7f-c64a-414b-a86a-4b007fc5f150",
   "metadata": {},
   "outputs": [
    {
     "data": {
      "text/plain": [
       "'As they look to contain an increasingly aggressive China, the United States and Japan announced dozens of new agreements, including on military, economic, climate and space matters.'"
      ]
     },
     "execution_count": 47,
     "metadata": {},
     "output_type": "execute_result"
    }
   ],
   "source": [
    "data.snippet[1]"
   ]
  },
  {
   "cell_type": "code",
   "execution_count": 55,
   "id": "2a25e63b-b4fd-4d8c-91de-1eb4b7493ed5",
   "metadata": {},
   "outputs": [
    {
     "data": {
      "text/plain": [
       "section_name\n",
       "Climate         9\n",
       "Business Day    1\n",
       "Name: count, dtype: int64"
      ]
     },
     "execution_count": 55,
     "metadata": {},
     "output_type": "execute_result"
    }
   ],
   "source": [
    "data.section_name.value_counts()"
   ]
  },
  {
   "cell_type": "code",
   "execution_count": 56,
   "id": "3829f137-cf85-407c-9b15-a18704cff444",
   "metadata": {},
   "outputs": [
    {
     "data": {
      "text/plain": [
       "0     Climate\n",
       "1     Climate\n",
       "2     Climate\n",
       "3     Climate\n",
       "4     Climate\n",
       "5     Climate\n",
       "6    Business\n",
       "7     Climate\n",
       "8     Climate\n",
       "9     Climate\n",
       "Name: news_desk, dtype: object"
      ]
     },
     "execution_count": 56,
     "metadata": {},
     "output_type": "execute_result"
    }
   ],
   "source": [
    "data.news_desk"
   ]
  },
  {
   "cell_type": "code",
   "execution_count": null,
   "id": "902c10de-7fa8-4546-b375-7e68346b069e",
   "metadata": {},
   "outputs": [],
   "source": []
  }
 ],
 "metadata": {
  "kernelspec": {
   "display_name": "Python 3 (ipykernel)",
   "language": "python",
   "name": "python3"
  },
  "language_info": {
   "codemirror_mode": {
    "name": "ipython",
    "version": 3
   },
   "file_extension": ".py",
   "mimetype": "text/x-python",
   "name": "python",
   "nbconvert_exporter": "python",
   "pygments_lexer": "ipython3",
   "version": "3.11.5"
  }
 },
 "nbformat": 4,
 "nbformat_minor": 5
}
