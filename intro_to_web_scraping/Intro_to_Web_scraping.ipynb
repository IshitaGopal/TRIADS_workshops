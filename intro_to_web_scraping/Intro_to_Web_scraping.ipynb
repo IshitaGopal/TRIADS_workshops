{
 "cells": [
  {
   "cell_type": "code",
   "execution_count": 1,
   "metadata": {
    "id": "c9DK2Q8HkcJ1"
   },
   "outputs": [],
   "source": [
    "import requests\n",
    "from bs4 import BeautifulSoup\n",
    "import pandas as pd\n"
   ]
  },
  {
   "cell_type": "markdown",
   "metadata": {
    "id": "9mZC4ch2mXVW"
   },
   "source": [
    "# **Making a GET request:**\n",
    "\n"
   ]
  },
  {
   "cell_type": "markdown",
   "metadata": {
    "id": "IzhDejvymAUn"
   },
   "source": [
    "The GET request is a way for your browser to ask the server for the content associated with a specific URL. Below we are making a GET rquest to get content from the Meetings Coverage and Press Releases website of the United Nations. The requests.get method is used to send a GET request to the https://press.un.org URL. You are essentially mimicking what happens when you click on a link in a web browser."
   ]
  },
  {
   "cell_type": "markdown",
   "metadata": {
    "id": "K6d5Ayp2pLC1"
   },
   "source": [
    "![UN Website](https://github.com/IshitaGopal/TRIADS_workshops/raw/main/intro_to_web_scraping/un_homepage.png)\n"
   ]
  },
  {
   "cell_type": "code",
   "execution_count": 2,
   "metadata": {
    "id": "YV2l8ng6kmZn"
   },
   "outputs": [],
   "source": [
    "# Make a simple GET request\n",
    "response = requests.get(\"https://press.un.org/en/\")\n"
   ]
  },
  {
   "cell_type": "markdown",
   "metadata": {
    "id": "YIfq6-OLmJQo"
   },
   "source": [
    "We can check the status code of our request. If the status code is 200, it means the request was successful. 😄"
   ]
  },
  {
   "cell_type": "code",
   "execution_count": 3,
   "metadata": {
    "colab": {
     "base_uri": "https://localhost:8080/"
    },
    "id": "HWYjvL-Zkfff",
    "outputId": "93fc2ff6-d031-4eff-ff11-fd31b8818382"
   },
   "outputs": [
    {
     "data": {
      "text/plain": [
       "<Response [200]>"
      ]
     },
     "execution_count": 3,
     "metadata": {},
     "output_type": "execute_result"
    }
   ],
   "source": [
    "response"
   ]
  },
  {
   "cell_type": "markdown",
   "metadata": {
    "id": "2CAcFFSAouAw"
   },
   "source": [
    "If I request content from a website or page that does not exist I will get a 404. 😞\n",
    "\n",
    "The status code 404 is associated with \"Not Found.\"\n",
    "\n"
   ]
  },
  {
   "cell_type": "markdown",
   "metadata": {
    "id": "kXbikg25skfC"
   },
   "source": [
    "![UN Website](https://github.com/IshitaGopal/TRIADS_workshops/raw/main/intro_to_web_scraping/bad_request.png)\n",
    "\n"
   ]
  },
  {
   "cell_type": "code",
   "execution_count": null,
   "metadata": {
    "colab": {
     "base_uri": "https://localhost:8080/"
    },
    "id": "8OpLIVRNk6VM",
    "outputId": "7d15e674-6509-49f7-f09d-14c4de5cf06c"
   },
   "outputs": [
    {
     "data": {
      "text/plain": [
       "<Response [404]>"
      ]
     },
     "execution_count": 5,
     "metadata": {},
     "output_type": "execute_result"
    }
   ],
   "source": [
    "requests.get(\"https://press.un.org/en/random\")"
   ]
  },
  {
   "cell_type": "markdown",
   "metadata": {
    "id": "kS7ypi1-mgaR"
   },
   "source": [
    "You can access the raw HTML content from an HTTP response\n",
    "using response.content attribute."
   ]
  },
  {
   "cell_type": "code",
   "execution_count": null,
   "metadata": {
    "colab": {
     "base_uri": "https://localhost:8080/"
    },
    "id": "Qq55C3SblNwK",
    "outputId": "6100c10f-7d87-4ffe-d981-5666138a323a"
   },
   "outputs": [
    {
     "data": {
      "text/plain": [
       "b'<!DOCTYPE html>\\n<html lang=\"en\" dir=\"ltr\">\\n  <head>\\n    <meta charset=\"utf-8\" />\\n<link rel=\"canonical\" href=\"https://press.un.org/en\" />\\n<link rel=\"shortlink\" href=\"https://press.un.org/en\" />\\n<meta name=\"MobileOptimized\" content=\"width\" />\\n<meta name=\"HandheldFriendly\" content=\"true\" />\\n<meta name=\"viewport\" content=\"width=device-width, initial-scale=1, shrink-to-fit=no\" />\\n<meta http-equiv=\"x-ua-compatible\" content=\"ie=edge\" />\\n<link rel=\"icon\" href=\"/themes/custom/un3_press/favicon.ico\" type=\"image/vnd.microsoft.icon\" />\\n<link rel=\"alternate\" hreflang=\"en\" href=\"https://press.un.org/en\" />\\n<link rel=\"alternate\" hreflang=\"fr\" href=\"https://press.un.org/fr\" />\\n<link rel=\"preload\" href=\"/themes/custom/un3/un3_base/node_modules/%40fontsource/roboto/files/roboto-latin-400-normal.woff2\" as=\"font\" type=\"font/woff2\" crossorigin />\\n<link rel=\"preload\" href=\"/themes/custom/un3/un3_base/node_modules/%40fontsource/roboto/files/roboto-latin-400-italic.woff2\" as=\"font\" type=\"font/woff2\" crossorigin />\\n<link rel=\"preload\" href=\"/themes/custom/un3/un3_base/node_modules/%40fontsource/roboto/files/roboto-latin-500-normal.woff2\" as=\"font\" type=\"font/woff2\" crossorigin />\\n<link rel=\"preload\" href=\"/themes/custom/un3/un3_base/node_modules/%40fontsource/roboto/files/roboto-latin-700-normal.woff2\" as=\"font\" type=\"font/woff2\" crossorigin />\\n<link rel=\"preload\" href=\"/themes/custom/un3/un3_base/node_modules/%40fontsource/roboto-condensed/files/roboto-condensed-latin-700-normal.woff2\" as=\"font\" type=\"font/woff2\" crossorigin />\\n<link rel=\"preload\" href=\"/themes/custom/un3/un3_base/node_modules/%40fontsource/oswald/files/oswald-latin-700-normal.woff2\" as=\"font\" type=\"font/woff2\" crossorigin />\\n<link rel=\"preload\" href=\"/libraries/fontawesome/webfonts/fa-solid-900.woff2\" as=\"font\" type=\"font/woff2\" crossorigin />\\n<link rel=\"preload\" href=\"/libraries/fontawesome/webfonts/fa-brands-400.woff2\" as=\"font\" type=\"font/woff2\" crossorigin />\\n\\n    <title>Meetings Coverage and Press Releases | Meetings'"
      ]
     },
     "execution_count": 6,
     "metadata": {},
     "output_type": "execute_result"
    }
   ],
   "source": [
    "response.content[:2000]"
   ]
  },
  {
   "cell_type": "markdown",
   "metadata": {
    "id": "Ucy8ykHVuZWC"
   },
   "source": [
    "# **Converting the HTTP response into something beautiful:**\n",
    "Now, we will use the **BeautifulSoup library in Python** to parse and extract information from the HTML content received received above.\n",
    "\n",
    "We will create a BeautifulSoup object, which is a data structure representing the HTML document. The BeautifulSoup object allows you to navigate and search through the HTML content easily.\n",
    "\n",
    "Specifically, we will use a specialized **HTML parser** in BeautifulSoup ('html.parser') to analyze HTML code, break it down into its constituent elements, and build a data structure that represents the hierarchical structure of the document. This data structure is typically a tree-like representation called the **Document Object Model (DOM)**. Each element in the DOM corresponds to an HTML tag, and the relationships between elements reflect the nesting structure of the HTML document."
   ]
  },
  {
   "cell_type": "code",
   "execution_count": null,
   "metadata": {
    "id": "1UrlE8_mlL9Z"
   },
   "outputs": [],
   "source": [
    "soup = BeautifulSoup(response.content, 'html.parser')\n"
   ]
  },
  {
   "cell_type": "markdown",
   "metadata": {
    "id": "sXS3ZpKjx__D"
   },
   "source": [
    "We can look at this tree-like representation:"
   ]
  },
  {
   "cell_type": "code",
   "execution_count": null,
   "metadata": {
    "colab": {
     "base_uri": "https://localhost:8080/"
    },
    "id": "2ICkc2-hxq2v",
    "outputId": "93d728e5-3ff4-406a-ed89-9f2dc10b1e2d"
   },
   "outputs": [
    {
     "name": "stdout",
     "output_type": "stream",
     "text": [
      "<!DOCTYPE html>\n",
      "<html dir=\"ltr\" lang=\"en\">\n",
      " <head>\n",
      "  <meta charset=\"utf-8\"/>\n",
      "  <link href=\"https://press.un.org/en\" rel=\"canonical\"/>\n",
      "  <link href=\"https://press.un.org/en\" rel=\"shortlink\"/>\n",
      "  <meta content=\"width\" name=\"MobileOptimized\"/>\n",
      "  <meta content=\"true\" name=\"HandheldFriendly\"/>\n",
      "  <meta content=\"width=device-width, initial-scale=1, shrink-to-fit=no\" name=\"viewport\"/>\n",
      "  <meta content=\"ie=edge\" http-equiv=\"x-ua-compatible\"/>\n",
      "  <link href=\"/themes/custom/un3_press/favicon.ico\" rel=\"icon\" type=\"image/vnd.microsoft.icon\"/>\n",
      "  <link href=\"https://press.un.org/en\" hreflang=\"en\" rel=\"alternate\"/>\n",
      "  <link href=\"https://press.un.org/fr\" hreflang=\"fr\" rel=\"alternate\"/>\n",
      "  <link as=\"font\" crossorigin=\"\" href=\"/themes/custom/un3/un3_base/node_modules/%40fontsource/roboto/files/roboto-latin-400-normal.woff2\" rel=\"preload\" type=\"font/woff2\"/>\n",
      "  <link as=\"font\" crossorigin=\"\" href=\"/themes/custom/un3/un3_base/node_modules/%40fontsource/roboto/files/roboto-latin-400-italic.woff2\" rel=\"preload\" type=\"font/woff2\"/>\n",
      "  <link as=\"font\" crossorigin=\"\" href=\"/themes/custom/un3/un3_base/node_modules/%40fontsource/roboto/files/roboto-latin-500-normal.woff2\" rel=\"preload\" type=\"font/woff2\"/>\n",
      "  <link as=\"font\" crossorigin=\"\" href=\"/themes/custom/un3/un3_base/node_modules/%40fontsource/roboto/files/roboto-latin-700-normal.woff2\" rel=\"preload\" type=\"font/woff2\"/>\n",
      "  <link as=\"font\" crossorigin=\"\" href=\"/themes/custom/un3/un3_base/node_modules/%40fontsource/roboto-condensed/files/roboto-condensed-latin-700-normal.woff2\" rel=\"preload\" type=\"font/woff2\"/>\n",
      "  <link as=\"font\" crossorigin=\"\" href=\"/themes/custom/un3/un3_base/node_modules/%40fontsource/oswald/files/oswald-latin-700-normal.woff2\" rel=\"preload\" type=\"font/woff2\"/>\n",
      "  <link as=\"font\" crossorigin=\"\" href=\"/libraries/fontawesome/webfonts/fa-solid-900.woff2\" rel=\"preload\" type=\"font/woff2\"/>\n",
      "  <link as=\"font\" crossorigin=\"\" href=\"/libraries/fontawesome/webfonts/fa-brands-400.woff2\" rel=\"preload\" type=\"font/woff2\"/>\n",
      "  <title>\n",
      "   Meetings Coverage and Press Releases | Meetings Coverage and Press Releases\n",
      "  </title>\n",
      "  <link href=\"/sites/default/files/css/css_DWPBMKomXX4Ejd4UtCZL1IJi0NfigsWhFDXA4bY4e6Q.css?delta=0&amp;language=en&amp;theme=un3_press&amp;include=eJyNktFuwyAMRX8oDQ_7IGSCQ9kMjmzTNH-_JOq0rtGWvSD7crAtcyMYECwoLuAVbplFu5GrwYzKBd1T3M8YtlQ7XdSwuACKXatvfgtcIg5AXWA2NYFpVUUyP_SL2kK5pp2fBFW_HiTmROgNkktWfqaQXvMe3uHe3TLO6vazLxwb4bFv5fisbv1R3UQt5doHGD6ScKvRD0wsfWiZ4q-44d3-DwLlVAtWO4EniHFdyQlVQPaJ_4QCS8Sz4QLfvV4h8nwC6iBM5HEccTB9wKtLuJmPWQe-oSyOK64r6XTOE4ofWQqYrUYSLGx41F-Fb-sQ1NQg4SXiCI3sySSHq8M_b_U-AQRDGQI\" media=\"all\" rel=\"stylesheet\"/>\n",
      "  <link href=\"//unpkg.com/swiper@8/swiper-bundle.min.css\" media=\"all\" rel=\"stylesheet\"/>\n",
      "  <link href=\"/sites/default/files/css/css_rwbfNlfM40eJp3eabiBa6rNkkyse9nPy1reRNeGBjDo.css?delta=2&amp;language=en&amp;theme=un3_press&amp;include=eJyNktFuwyAMRX8oDQ_7IGSCQ9kMjmzTNH-_JOq0rtGWvSD7crAtcyMYECwoLuAVbplFu5GrwYzKBd1T3M8YtlQ7XdSwuACKXatvfgtcIg5AXWA2NYFpVUUyP_SL2kK5pp2fBFW_HiTmROgNkktWfqaQXvMe3uHe3TLO6vazLxwb4bFv5fisbv1R3UQt5doHGD6ScKvRD0wsfWiZ4q-44d3-DwLlVAtWO4EniHFdyQlVQPaJ_4QCS8Sz4QLfvV4h8nwC6iBM5HEccTB9wKtLuJmPWQe-oSyOK64r6XTOE4ofWQqYrUYSLGx41F-Fb-sQ1NQg4SXiCI3sySSHq8M_b_U-AQRDGQI\" media=\"all\" rel=\"stylesheet\"/>\n",
      "  <link href=\"https://unpkg.com/aos@2.3.1/dist/aos.css\" media=\"all\" rel=\"stylesheet\"/>\n",
      "  <link href=\"/sites/default/files/css/css_fe235xJemSsku88sxTnMPx_DNomnTkU8i7087sRcNvE.css?delta=4&amp;language=en&amp;theme=un3_press&amp;include=eJyNktFuwyAMRX8oDQ_7IGSCQ9kMjmzTNH-_JOq0rtGWvSD7crAtcyMYECwoLuAVbplFu5GrwYzKBd1T3M8YtlQ7XdSwuACKXatvfgtcIg5AXWA2NYFpVUUyP_SL2kK5pp2fBFW_HiTmROgNkktWfqaQXvMe3uHe3TLO6vazLxwb4bFv5fisbv1R3UQt5doHGD6ScKvRD0wsfWiZ4q-44d3-DwLlVAtWO4EniHFdyQlVQPaJ_4QCS8Sz4QLfvV4h8nwC6iBM5HEccTB9wKtLuJmPWQe-oSyOK64r6XTOE4ofWQqYrUYSLGx41F-Fb-sQ1NQg4SXiCI3sySSHq8M_b_U-AQRDGQI\" media=\"all\" rel=\"stylesheet\"/>\n",
      "  <link href=\"/sites/default/files/css/css_-_8kekZ-i-cW4caTbmFR6D5PAdfDxNT-KnKMfX2RDIw.css?delta=5&amp;language=en&amp;theme=un3_press&amp;include=eJyNktFuwyAMRX8oDQ_7IGSCQ9kMjmzTNH-_JOq0rtGWvSD7crAtcyMYECwoLuAVbplFu5GrwYzKBd1T3M8YtlQ7XdSwuACKXatvfgtcIg5AXWA2NYFpVUUyP_SL2kK5pp2fBFW_HiTmROgNkktWfqaQXvMe3uHe3TLO6vazLxwb4bFv5fisbv1R3UQt5doHGD6ScKvRD0wsfWiZ4q-44d3-DwLlVAtWO4EniHFdyQlVQPaJ_4QCS8Sz4QLfvV4h8nwC6iBM5HEccTB9wKtLuJmPWQe-oSyOK64r6XTOE4ofWQqYrUYSLGx41F-Fb-sQ1NQg4SXiCI3sySSHq8M_b_U-AQRDGQI\" media=\"all\" rel=\"stylesheet\"/>\n",
      " </head>\n",
      " <body class=\"layout-one-sidebar layout-sidebar-first page-node-330972 path-frontpage node--type-page\">\n",
      "  <div class=\"visually-hidden-focusable bg-un-blue-5 text-center p-m\">\n",
      "   <a class=\"skip-link\" href=\"#main-content\">\n",
      "    Skip to main content / navigation\n",
      "   </a>\n",
      "  </div>\n",
      "  <noscript>\n",
      "   <iframe height=\"0\" src=\"https://www.googletagmanager.com/ns.html?id=GTM-NWVSS4R\" style=\"display:none;visibility:hidden\" width=\"0\">\n",
      "   </iframe>\n",
      "  </noscript>\n",
      "  <div class=\"dialog-off-canvas-main-canvas\" data-off-canvas-main-canvas=\"\">\n",
      "   <div id=\"page-wrapper\">\n",
      "    <div id=\"page\">\n",
      "     <nav class=\"navbar navbar-expand site-header__top bg-light p-0\" id=\"header__top\">\n",
      "      <div class=\"container\">\n",
      "       <a class=\"site-welcome navbar-brand text-body fs-default p-0\" href=\"https://www.un.org/en\" title=\"United Nations\">\n",
      "        <i class=\"fa-solid fa-house fs-4 me-m align-bottom\">\n",
      "        </i>\n",
      "        <span>\n",
      "         Welcome to the United Nations\n",
      "        </span>\n",
      "       </a>\n",
      "       <section class=\"region region-secondary-menu\">\n",
      "        <div class=\"language-switcher-language-url block block-language block-language-block-language-interface block-un3-press-languageswitcher\" id=\"block-un3-press-languageswitcher\" role=\"navigation\">\n",
      "         <div class=\"block-content\">\n",
      "          <ul class=\"links nav\">\n",
      "           <li class=\"fr nav-item\" data-drupal-link-system-path=\"node/330972\" hreflang=\"fr\">\n",
      "            <a class=\"language-link nav-link\" data-drupal-link-system-path=\"node/330972\" href=\"/fr/frontpage\" hreflang=\"fr\">\n",
      "             Français\n",
      "            </a>\n",
      "           </li>\n",
      "          </ul>\n",
      "         </div>\n",
      "        </div>\n",
      "       </section>\n",
      "      </div>\n",
      "     </nav>\n",
      "     <div class=\"site-header__main-wrapper sticky-top bg-white border-top border-4 border-un-blue\">\n",
      "      <div class=\"site-header__main\" id=\"header__main\">\n",
      "       <div class=\"container\">\n",
      "        <div class=\"row align-items-center flex-nowrap\">\n",
      "         <div class=\"col\">\n",
      "          <div class=\"clearfix site-branding d-flex align-items-center\" id=\"block-un3-press-branding\">\n",
      "           <div class=\"site-logo flex-shrink-0\">\n",
      "            <a href=\"https://www.un.org/en\" title=\"United Nations\">\n",
      "             <img alt=\"United Nations\" src=\"/themes/custom/un3/un3_base/images/logos/UN_logo_en.svg\"/>\n",
      "            </a>\n",
      "           </div>\n",
      "           <div class=\"site-name-slogan flex-grow-1 d-flex flex-column justify-content-center border-start border-1 ms-m ps-m\">\n",
      "            <div class=\"site-name\">\n",
      "             <a href=\"/en\" rel=\"home\" title=\"Meetings Coverage and Press Releases\">\n",
      "              Meetings Coverage and Press Releases\n",
      "             </a>\n",
      "            </div>\n",
      "           </div>\n",
      "          </div>\n",
      "         </div>\n",
      "         <div class=\"col-auto d-flex align-self-stretch\">\n",
      "          <button aria-expanded=\"false\" class=\"language-toggler collapsed align-self-center btn border-0 gap-0 shadow-none text-uppercase p-0\" data-bs-target=\".region-top-header-form .block-language\" data-bs-toggle=\"collapse\" type=\"button\">\n",
      "           en\n",
      "          </button>\n",
      "          <button aria-expanded=\"false\" class=\"search-toggler collapsed d-none align-self-center btn border-0 gap-0 shadow-none text-uppercase ms-g mb-0 p-0\" data-bs-target=\".region-top-header-form .block-search, .region-top-header-form .block-simple-search-form\" data-bs-toggle=\"collapse\" type=\"button\">\n",
      "           Search\n",
      "          </button>\n",
      "          <button aria-controls=\"CollapsingNavbar\" aria-expanded=\"false\" aria-label=\"Toggle navigation\" class=\"navbar-toggler align-self-start d-lg-none collapsed border-0\" data-bs-target=\"#CollapsingNavbar\" data-bs-toggle=\"collapse\" type=\"button\">\n",
      "           <span class=\"navbar-toggler-icon d-inline-flex align-items-center justify-content-center\">\n",
      "            <i class=\"fa-solid fa-bars\">\n",
      "            </i>\n",
      "            <i class=\"fa-solid fa-xmark d-none\">\n"
     ]
    }
   ],
   "source": [
    "# Get the pretty version of the HTML content\n",
    "pretty_html = soup.prettify()\n",
    "\n",
    "# Print only the first few lines (let's say 100 lines)\n",
    "print('\\n'.join(pretty_html.splitlines()[:100]))\n"
   ]
  },
  {
   "cell_type": "markdown",
   "metadata": {
    "id": "OzxzqvaCyies"
   },
   "source": [
    "# **Navigating and extracting information from \"soup\":**"
   ]
  },
  {
   "cell_type": "code",
   "execution_count": null,
   "metadata": {
    "colab": {
     "base_uri": "https://localhost:8080/"
    },
    "id": "IgSPI0cemZN0",
    "outputId": "40056962-4512-4bad-b829-63d81dc43d9a"
   },
   "outputs": [
    {
     "data": {
      "text/plain": [
       "<title>Meetings Coverage and Press Releases | Meetings Coverage and Press Releases</title>"
      ]
     },
     "execution_count": 12,
     "metadata": {},
     "output_type": "execute_result"
    }
   ],
   "source": [
    "# Lets get the title tag of the page\n",
    "soup.title"
   ]
  },
  {
   "cell_type": "code",
   "execution_count": null,
   "metadata": {
    "id": "cLLeTKnv2WIS"
   },
   "outputs": [],
   "source": [
    "# We can also write this like:\n",
    "soup.find(\"title\")"
   ]
  },
  {
   "cell_type": "markdown",
   "metadata": {
    "id": "d4JxrZKsz7HH"
   },
   "source": [
    "## *Some common HTML tags:*\n",
    "The most common HTML tags serve various functions and play essential roles in structuring a web page. Here are some of the most common HTML tags along with their functions:\n",
    "\n",
    "1. **`<html>`:**\n",
    "   - Defines the root of an HTML document.\n",
    "\n",
    "2. **`<head>`:**\n",
    "   - Contains metadata about the HTML document, such as the title, character set, and linked stylesheets.\n",
    "\n",
    "3. **`<title>`:**\n",
    "   - Sets the title of the HTML document, which appears in the browser's title bar or tab.\n",
    "\n",
    "4. **`<body>`:**\n",
    "   - Contains the main content of the HTML document, such as text, images, links, and other elements.\n",
    "\n",
    "5. **`<h1> to <h6>`:**\n",
    "   - Define heading levels, with `<h1>` being the highest level and `<h6>` the lowest.\n",
    "\n",
    "6. **`<p>`:**\n",
    "   - Represents a paragraph of text.\n",
    "\n",
    "7. **`<a>`:**\n",
    "   - Creates hyperlinks, linking to other pages or resources.\n",
    "\n",
    "8. **`<img>`:**\n",
    "   - Embeds images in the HTML document.\n",
    "\n",
    "9. **`<ul>`:**\n",
    "   - Defines an unordered list, typically used with `<li>` (list items) inside.\n",
    "\n",
    "10. **`<ol>`:**\n",
    "    - Defines an ordered list, where items are numbered, often used with `<li>` inside.\n",
    "\n",
    "11. **`<li>`:**\n",
    "    - Represents a list item within `<ul>` (unordered list) or `<ol>` (ordered list).\n",
    "\n",
    "12. **`<div>`:**\n",
    "    - Divides the HTML document into sections, often used for layout and styling.\n",
    "\n",
    "13. **`<span>`:**\n",
    "    - Defines a small section of text within a larger block of content.\n",
    "\n",
    "14. **`<strong>` and `<em>`:**\n",
    "    - `<strong>` is used to define strong importance or emphasis.\n",
    "    - `<em>` is used to define emphasized text.\n",
    "\n",
    "15. **`<br>`:**\n",
    "    - Inserts a line break within text.\n",
    "\n",
    "16. **`<hr>`:**\n",
    "    - Represents a horizontal rule or line, often used to separate sections of content.\n",
    "\n",
    "17. **`<form>`:**\n",
    "    - Creates a form for user input, often used with input elements like text fields, buttons, and checkboxes.\n",
    "\n",
    "18. **`<input>`:**\n",
    "    - Defines an input field within a form.\n",
    "\n",
    "19. **`<textarea>`:**\n",
    "    - Defines a multiline text input field within a form.\n",
    "\n",
    "20. **`<select>` and `<option>`:**\n",
    "    - `<select>` creates a dropdown list within a form.\n",
    "    - `<option>` defines an option within a dropdown list.\n",
    "\n",
    "These tags provide the basic building blocks for structuring and styling web pages. Understanding how to use them effectively is crucial for creating well-organized and visually appealing HTML documents. Keep in mind that there are many more HTML tags, each serving a specific purpose, and their usage often depends on the requirements of the content and design."
   ]
  },
  {
   "cell_type": "markdown",
   "metadata": {
    "id": "mFjO1_Vo2_yg"
   },
   "source": [
    "## Let's find more tags using soup.find()\n",
    "\n"
   ]
  },
  {
   "cell_type": "code",
   "execution_count": null,
   "metadata": {
    "colab": {
     "base_uri": "https://localhost:8080/"
    },
    "id": "Zp44E3IEmgrI",
    "outputId": "bb6bd294-b4ca-4f1d-839e-02caa1397d64"
   },
   "outputs": [
    {
     "data": {
      "text/plain": [
       "<a class=\"skip-link\" href=\"#main-content\">Skip to main content / navigation</a>"
      ]
     },
     "execution_count": 13,
     "metadata": {},
     "output_type": "execute_result"
    }
   ],
   "source": [
    "# Find the first <a> (anchor) tag\n",
    "first_link = soup.find('a')\n",
    "first_link"
   ]
  },
  {
   "cell_type": "code",
   "execution_count": null,
   "metadata": {
    "colab": {
     "base_uri": "https://localhost:8080/"
    },
    "id": "B1rwrF1glHfq",
    "outputId": "6a9f70f0-5714-4abf-f6e7-05067a9bafb4"
   },
   "outputs": [
    {
     "data": {
      "text/plain": [
       "<p>Press releases, press conferences, statements, official travel</p>"
      ]
     },
     "execution_count": 14,
     "metadata": {},
     "output_type": "execute_result"
    }
   ],
   "source": [
    "# Find the first <p> (paragraph) tag\n",
    "first_paragraph = soup.find('p')\n",
    "first_paragraph"
   ]
  },
  {
   "cell_type": "code",
   "execution_count": null,
   "metadata": {
    "colab": {
     "base_uri": "https://localhost:8080/",
     "height": 35
    },
    "id": "ECbwj_jF6VmR",
    "outputId": "55360953-7c7b-47fd-8f68-ed2a65ae547a"
   },
   "outputs": [
    {
     "data": {
      "application/vnd.google.colaboratory.intrinsic+json": {
       "type": "string"
      },
      "text/plain": [
       "'Press releases, press conferences, statements, official travel'"
      ]
     },
     "execution_count": 15,
     "metadata": {},
     "output_type": "execute_result"
    }
   ],
   "source": [
    "# We can use the .text attribute to retrieve the text content of a tag\n",
    "first_paragraph.text"
   ]
  },
  {
   "cell_type": "markdown",
   "metadata": {
    "id": "EMZFOouY2D3I"
   },
   "source": [
    "## Now lets use soup.find_all() to search for all occurrences of a particular HTML tag within our parsed document.\n",
    "\n",
    "It returns a ResultSet, which is essentially a list containing all the matching tags."
   ]
  },
  {
   "cell_type": "code",
   "execution_count": null,
   "metadata": {
    "colab": {
     "base_uri": "https://localhost:8080/"
    },
    "id": "AFO9hIjr3vSR",
    "outputId": "6a192894-3bf9-4dc3-bd03-0fad2d6519bb"
   },
   "outputs": [
    {
     "data": {
      "text/plain": [
       "[<a class=\"skip-link\" href=\"#main-content\">Skip to main content / navigation</a>,\n",
       " <a class=\"site-welcome navbar-brand text-body fs-default p-0\" href=\"https://www.un.org/en\" title=\"United Nations\">\n",
       " <i class=\"fa-solid fa-house fs-4 me-m align-bottom\"></i><span>Welcome to the United Nations</span>\n",
       " </a>,\n",
       " <a class=\"language-link nav-link\" data-drupal-link-system-path=\"node/330972\" href=\"/fr/frontpage\" hreflang=\"fr\">Français</a>,\n",
       " <a href=\"https://www.un.org/en\" title=\"United Nations\">\n",
       " <img alt=\"United Nations\" src=\"/themes/custom/un3/un3_base/images/logos/UN_logo_en.svg\"/>\n",
       " </a>,\n",
       " <a href=\"/en\" rel=\"home\" title=\"Meetings Coverage and Press Releases\">\n",
       "             Meetings Coverage and Press Releases\n",
       "           </a>,\n",
       " <a class=\"language-link nav-link\" data-drupal-link-system-path=\"node/330972\" href=\"/fr/frontpage\" hreflang=\"fr\">Français</a>,\n",
       " <a href=\"/en\" rel=\"home\" title=\"Meetings Coverage and Press Releases\">\n",
       "             Meetings Coverage and Press Releases\n",
       "           </a>,\n",
       " <a data-bs-toggle=\"collapse\" href=\"#CollapsingNavbar\"></a>,\n",
       " <a class=\"nav-link nav-link--en d-flex gap-s align-items-center justify-content-between is-active\" data-drupal-link-system-path=\"&lt;front&gt;\" href=\"/en\" title=\"Home\">Home</a>,\n",
       " <a aria-expanded=\"false\" aria-haspopup=\"true\" class=\"nav-link dropdown-toggle nav-link--en-content-secretary-general d-flex gap-s align-items-center justify-content-between\" data-bs-auto-close=\"outside\" data-bs-toggle=\"dropdown\" data-drupal-link-system-path=\"content/secretary-general\" href=\"/en/content/secretary-general\">Secretary-General</a>]"
      ]
     },
     "execution_count": 17,
     "metadata": {},
     "output_type": "execute_result"
    }
   ],
   "source": [
    "# Find all <a> tags in the document and display the 1st 10\n",
    "all_links = soup.find_all('a')\n",
    "all_links[:10]"
   ]
  },
  {
   "cell_type": "code",
   "execution_count": null,
   "metadata": {
    "colab": {
     "base_uri": "https://localhost:8080/"
    },
    "id": "RmO-Zjx-mq2u",
    "outputId": "7615721b-77cc-44c4-b044-fd2c14ae3f29"
   },
   "outputs": [
    {
     "name": "stdout",
     "output_type": "stream",
     "text": [
      "There are 104 links in this page\n"
     ]
    }
   ],
   "source": [
    "# Number of links in the page\n",
    "print(f\"There are {len(all_links)} links in this page\")\n"
   ]
  },
  {
   "cell_type": "code",
   "execution_count": null,
   "metadata": {
    "colab": {
     "base_uri": "https://localhost:8080/"
    },
    "id": "8d9xzZ0MgnLA",
    "outputId": "5c1bd0b1-6d29-49cd-a65f-6f5cf909e83c"
   },
   "outputs": [
    {
     "name": "stdout",
     "output_type": "stream",
     "text": [
      "Link: #main-content\n",
      "Title: Skip to main content / navigation\n",
      "\n",
      "Link: https://www.un.org/en\n",
      "Title: \n",
      "Welcome to the United Nations\n",
      "\n",
      "\n",
      "Link: /fr/frontpage\n",
      "Title: Français\n",
      "\n",
      "Link: https://www.un.org/en\n",
      "Title: \n",
      "\n",
      "\n",
      "\n",
      "Link: /en\n",
      "Title: \n",
      "            Meetings Coverage and Press Releases\n",
      "          \n",
      "\n",
      "Link: /fr/frontpage\n",
      "Title: Français\n",
      "\n",
      "Link: /en\n",
      "Title: \n",
      "            Meetings Coverage and Press Releases\n",
      "          \n",
      "\n",
      "Link: #CollapsingNavbar\n",
      "Title: \n",
      "\n",
      "Link: /en\n",
      "Title: Home\n",
      "\n",
      "Link: /en/content/secretary-general\n",
      "Title: Secretary-General\n",
      "\n",
      "Link: /en/content/secretary-general\n",
      "Title: Latest\n",
      "\n",
      "Link: /en/content/secretary-general/press-release\n",
      "Title: Press Releases\n",
      "\n",
      "Link: /en/content/secretary-general/press-conference\n",
      "Title: Press Conferences\n",
      "\n",
      "Link: /en/content/general-assembly\n",
      "Title: General Assembly\n",
      "\n",
      "Link: /en/content/general-assembly\n",
      "Title: Latest\n",
      "\n",
      "Link: /en/content/general-assembly/meetings-coverage\n",
      "Title: Meetings Coverage\n",
      "\n",
      "Link: /en/content/general-assembly/press-release\n",
      "Title: Press Releases\n",
      "\n",
      "Link: /en/content/security-council\n",
      "Title: Security Council\n",
      "\n",
      "Link: /en/content/security-council\n",
      "Title: Latest\n",
      "\n",
      "Link: /en/content/security-council/meetings-coverage\n",
      "Title: Meetings Coverage\n",
      "\n",
      "Link: /en/content/security-council/press-release\n",
      "Title: Press Releases\n",
      "\n",
      "Link: /en/content/security-council/press-conference\n",
      "Title: Press Conferences\n",
      "\n",
      "Link: /en/content/economic-and-social-council\n",
      "Title: Economic and Social Council\n",
      "\n",
      "Link: /en/content/economic-and-social-council\n",
      "Title: Latest\n",
      "\n",
      "Link: /en/content/economic-and-social-council/meetings-coverage\n",
      "Title: Meetings Coverage\n",
      "\n",
      "Link: /en/content/economic-and-social-council/press-release\n",
      "Title: Press Releases\n",
      "\n",
      "Link: /en/content/economic-and-social-council/press-conference\n",
      "Title: Press Conferences\n",
      "\n",
      "Link: https://www.icj-cij.org/en/press-releases\n",
      "Title: International Court of Justice\n",
      "\n",
      "Link: #block-un3-press-simplesearchform-2-content\n",
      "Title: Search\n",
      "\n",
      "Link: #main-content\n",
      "Title: \n",
      "\n",
      "Link: /en/content/secretary-general\n",
      "Title: \n",
      "\n",
      "Link: /en/content/secretary-general\n",
      "Title: Secretary-General\n",
      "\n",
      "Link: /en/content/secretary-general\n",
      "Title: Secretary-General\n",
      "\n",
      "Link: /en/content/general-assembly\n",
      "Title: \n",
      "\n",
      "Link: /en/content/general-assembly\n",
      "Title: General Assembly\n",
      "\n",
      "Link: /en/content/general-assembly\n",
      "Title: General Assembly\n",
      "\n",
      "Link: /en/content/security-council\n",
      "Title: \n",
      "\n",
      "Link: /en/content/security-council\n",
      "Title: Security Council\n",
      "\n",
      "Link: /en/content/security-council\n",
      "Title: Security Council\n",
      "\n",
      "Link: /en/content/economic-and-social-council\n",
      "Title: \n",
      "\n",
      "Link: /en/content/economic-and-social-council\n",
      "Title: Economic and Social Council\n",
      "\n",
      "Link: /en/content/economic-and-social-council\n",
      "Title: Economic and Social Council\n",
      "\n",
      "Link: /en/2024/sc15613.doc.htm\n",
      "Title: Honor Values of Ramadan in Sudan through Cessation of Hostilities, Secretary-General Urges Security Council, Warning ‘Hunger Is Stalking’, Millions Need Life-saving Aid\n",
      "\n",
      "Link: /en/2024/sc15612.doc.htm\n",
      "Title: Briefing Security Council on Afghanistan, Special Representative Urges de Facto Authorities Reverse Repressive Policies towards Women\n",
      "\n",
      "Link: /en/2024/gaab4453.doc.htm\n",
      "Title: Hold Managers Responsible for Implementing Staff Recruitment Recommendations, Speakers Urge as Fifth Committee Reviews Progress in Strengthening UN Accountability Culture \n",
      "\n",
      "Link: /en/2024/ga12586.doc.htm-0\n",
      "Title: Veto of Security Council Resolution Calling for Ceasefire in Gaza Emboldens Israel to Continue Crimes against Palestinian people, Speakers Tell General Assembly\n",
      "\n",
      "Link: /en/2024/ga12586.doc.htm\n",
      "Title: General Assembly: plenary\n",
      "\n",
      "Link: /en/2024/sc15611.doc.htm\n",
      "Title: If Not Managed Carefully, South Sudan Elections Could Result in ‘Disastrous Consequences,’ Peacekeeping Chief Warns Security Council\n",
      "\n",
      "Link: /en/2024/gaab4452.doc.htm\n",
      "Title: Fifth Committee Examines $3 Million Financing of New Mission on Missing Persons in Syria\n",
      "\n",
      "Link: /en/2024/ga12585.doc.htm\n",
      "Title: Amid ‘Catastrophic, Unconscionable, Shameful’ Situation in Gaza, General Assembly President Underlines Need for Immediate Ceasefire\n",
      "\n",
      "Link: /en/2024/sc15610.doc.htm\n",
      "Title: Syria’s Full Cooperation Essential to Closing Chemical Weapons File, Senior Official Tells Security Council\n",
      "\n",
      "Link: https://press.un.org/en/content/meetings-coverage\n",
      "Title: Latest Meetings Coverage\n",
      "\n",
      "Link: /en/2024/sc15614.doc.htm\n",
      "Title: Security Council 2140 Committee Discusses Work Programme of Expert Panel\n",
      "\n",
      "Link: /en/2024/sgsm22146.doc.htm\n",
      "Title: Ramadan Cessation of Hostilities Can Help Stem Suffering, Usher Way to Sustainable Peace in Sudan, Secretary-General Tells Security Council\n",
      "\n",
      "Link: /en/2024/sgt3379.doc.htm\n",
      "Title: Activities of Secretary-General in Switzerland, 25-26 February\n",
      "\n",
      "Link: /en/2024/sgt3378.doc.htm\n",
      "Title: Activities of Secretary-General in Qatar, 17-20 February\n",
      "\n",
      "Link: /en/2024/sgt3377.doc.htm\n",
      "Title: Activities of Secretary-General in Germany, 14-16 February\n",
      "\n",
      "Link: /en/2024/sga2271.doc.htm\n",
      "Title: Secretary-General appoints Mô Bleeker of Switzerland Special Adviser on Responsibility to Protect\n",
      "\n",
      "Link: /en/2024/dsgsm1893.doc.htm\n",
      "Title: ‘There Can Be No Sustainable Development without Peace’, Deputy Secretary-General Tells Arab Forum\n",
      "\n",
      "Link: /en/2024/sga2270.doc.htm\n",
      "Title: Secretary-General Appoints Najla Nassif Palma of Brazil Victims’ Rights Advocate\n",
      "\n",
      "Link: /en/2024/sc15608.doc.htm\n",
      "Title: Security Council Press Statement on Incident Surrounding Humanitarian Assistance Convoy in Gaza Strip\n",
      "\n",
      "Link: /en/2024/sgsm22145.doc.htm\n",
      "Title: Solidarity Critical to Addressing Climate Emergency Threatening Very Existence of Small Island States, Secretary-General Tells Latin American, Caribbean Summit\n",
      "\n",
      "Link: https://press.un.org/en/content/press-release\n",
      "Title: Latest Press Releases\n",
      "\n",
      "Link: /en/2024/sc15558.doc.htm\n",
      "Title: Security Council 2023 Round-Up\n",
      "\n",
      "Link: /en/2024/ga12579.doc.htm\n",
      "Title: Highlights of General Assembly 78th Session\n",
      "\n",
      "Link: /en/highlights/UNGA78\n",
      "Title: High-level meetings of the 78th session of the General Assembly\n",
      "\n",
      "Link: /en/highlights/WaterAction\n",
      "Title: United Nations Water Conference\n",
      "\n",
      "Link: /en/highlights/CSW67\n",
      "Title: Sixty-Seventh Session of the Commission on the Status of Women\n",
      "\n",
      "Link: /en/highlights/LDC5\n",
      "Title:  Fifth United Nations Conference on the Least Developed Countries\n",
      "\n",
      "Link: /en/2024/db240307.doc.htm\n",
      "Title: 7 March 2024\n",
      "\n",
      "\n",
      "Link: https://press.un.org/en/content/noon-briefings\n",
      "Title: Latest Noon Briefings\n",
      "\n",
      "Link: /en/2024/240301-sc\n",
      "Title: Press Conference by Security Council President on Programme of Work for March\n",
      "\n",
      "Link: https://press.un.org/en/content/press-conference\n",
      "Title: Latest Press Conferences\n",
      "\n",
      "Link: https://journal.un.org/en\n",
      "Title: Journal\n",
      "\n",
      "Link: https://www.un.org/en/events-and-news\n",
      "Title: Conferences & Events\n",
      "\n",
      "Link: https://www.un.org/en/media/accreditation/alert.shtml\n",
      "Title: Media Alert\n",
      "\n",
      "Link: https://news.un.org/en/\n",
      "Title: UN News\n",
      "\n",
      "Link: https://media.un.org/en/webtv\n",
      "Title: Webcast\n",
      "\n",
      "Link: http://www.unmultimedia.org/photo/\n",
      "Title: Photo\n",
      "\n",
      "Link: http://www.unmultimedia.org/\n",
      "Title: Multimedia\n",
      "\n",
      "Link: http://www.un.org/media/accreditation/\n",
      "Title: Media Accreditation\n",
      "\n",
      "Link: https://www.unmultimedia.org/\n",
      "Title: Television\n",
      "\n",
      "Link: http://www.unmultimedia.org/tv/unifeed/\n",
      "Title: UNIFEED\n",
      "\n",
      "Link: http://www.un.org/sg/spokesperson/\n",
      "Title: Spokesperson for the Secretary-General\n",
      "\n",
      "Link: /en/content/general-assembly\n",
      "Title: General Assembly\n",
      "\n",
      "Link: /en/content/security-council\n",
      "Title: Security Council\n",
      "\n",
      "Link: /en/content/economic-and-social-council\n",
      "Title: Economic and Social Council\n",
      "\n",
      "Link: /en/content/secretary-general\n",
      "Title: Secretary-General\n",
      "\n",
      "Link: /en/content/noon-briefings\n",
      "Title: Latest Noon Briefing\n",
      "\n",
      "Link: /en/content/meetings-coverage\n",
      "Title: Meetings Coverage\n",
      "\n",
      "Link: /en/content/press-release\n",
      "Title: Press Releases\n",
      "\n",
      "Link: /en/content/press-conference\n",
      "Title: Press Conferences\n",
      "\n",
      "Link: https://www.un.org/en/site-index\n",
      "Title: A-Z SITE INDEX\n",
      "\n",
      "Link: https://www.un.org/en/contact-us\n",
      "Title: CONTACT US\n",
      "\n",
      "Link: https://www.un.org/en/about-us/copyright\n",
      "Title: COPYRIGHT\n",
      "\n",
      "Link: https://www.un.org/en/about-us/frequently-asked-questions\n",
      "Title: FAQ\n",
      "\n",
      "Link: https://www.un.org/en/about-us/fraud-alert\n",
      "Title: FRAUD ALERT\n",
      "\n",
      "Link: https://www.un.org/en/about-us/privacy-notice\n",
      "Title: PRIVACY NOTICE\n",
      "\n",
      "Link: https://www.un.org/en/about-us/terms-of-use\n",
      "Title: TERMS OF USE\n",
      "\n",
      "Link: https://www.facebook.com/unitednations\n",
      "Title: \n",
      "\n",
      "Link: https://twitter.com/un\n",
      "Title: \n",
      "\n",
      "Link: https://www.youtube.com/unitednations\n",
      "Title: \n",
      "\n",
      "Link: /en/rss.xml\n",
      "Title: \n",
      "\n",
      "Link: https://www.un.org/en/about-us/how-to-donate-to-the-un-system\n",
      "Title: Donate\n",
      "\n"
     ]
    }
   ],
   "source": [
    "# Extract links and link titles\n",
    "links = [(a['href'], a.text) for a in soup.find_all('a')]\n",
    "# Display the result\n",
    "for link, title in links:\n",
    "    print(f\"Link: {link}\\nTitle: {title}\\n\")\n"
   ]
  },
  {
   "cell_type": "markdown",
   "metadata": {
    "id": "_iiGhUbXlSXi"
   },
   "source": [
    "# **SelectorGadget and css selectors:**\n",
    "Now, to make our lives even easier, we will use **css selectors *and* BeautifulSoup**  to find and collect content. A **CSS selector** is a pattern used to select and style HTML elements on a web page. Selectors define the criteria for matching elements. CSS selectors allow you to express complex selection criteria concisely. This can result in shorter and more readable code compared to using traditional methods like nested .find() calls.\n",
    "\n",
    "We’re going to use a tool called **“SelectorGadget”** available here: https://selectorgadget.com/\n",
    "\n",
    "When installed as an extension in the Chrome browser, it allows you to point and click at what you want to find and it defines a “css selector” that identifies the element or elements you need. So, once installed, we turn on SelectorGadget by clicking on the icon. Then we select one of the links that we want to capture. That highlights everything you’re currently capturing, (You can then select things you want it not to capture, if need be.)\n",
    "\n",
    "We will then pass the \"css selector\" to \"soup\" to parse out content we are intrested in.\n"
   ]
  },
  {
   "cell_type": "markdown",
   "metadata": {
    "id": "693EiuWZ9Z0o"
   },
   "source": [
    "<img src=\"https://github.com/IshitaGopal/TRIADS_workshops/raw/main/intro_to_web_scraping/css_select.png\"  width=\"1000\">\n"
   ]
  },
  {
   "cell_type": "markdown",
   "metadata": {
    "id": "cvvj4CPWBhNm"
   },
   "source": [
    "But clicking on the first link also selcts some things we dont want 🧐:"
   ]
  },
  {
   "cell_type": "markdown",
   "metadata": {
    "id": "S9pohMK6BKsw"
   },
   "source": [
    "<img src=\"https://github.com/IshitaGopal/TRIADS_workshops/raw/main/intro_to_web_scraping/extra_selects.png\"  width=\"1000\">\n"
   ]
  },
  {
   "cell_type": "markdown",
   "metadata": {
    "id": "K4a4-TH3BxD7"
   },
   "source": [
    "We can unselect things we dont want captured by clicking on it again. The box will turn red and deselect:\n",
    "\n",
    "<img src=\"https://github.com/IshitaGopal/TRIADS_workshops/raw/main/intro_to_web_scraping/css_unselect.png\"  width=\"1000\">"
   ]
  },
  {
   "cell_type": "markdown",
   "metadata": {
    "id": "_fsZishwCEbL"
   },
   "source": [
    "# **Let's use the selector gadget and search \"soup\" using soup.select():**"
   ]
  },
  {
   "cell_type": "markdown",
   "metadata": {
    "id": "NUjVwJubDeKh"
   },
   "source": [
    "First, lets get all of the headlines (displayed under meeting coverage and press releases section on the website) that we selected above.\n"
   ]
  },
  {
   "cell_type": "code",
   "execution_count": null,
   "metadata": {
    "colab": {
     "base_uri": "https://localhost:8080/"
    },
    "id": "YHP0uQlIELf-",
    "outputId": "aa55475e-120f-4e36-f3e0-7dee9e1d9334"
   },
   "outputs": [
    {
     "data": {
      "text/plain": [
       "[<a href=\"/en/2024/sc15613.doc.htm\" hreflang=\"en\">Honor Values of Ramadan in Sudan through Cessation of Hostilities, Secretary-General Urges Security Council, Warning ‘Hunger Is Stalking’, Millions Need Life-saving Aid</a>,\n",
       " <a href=\"/en/2024/sc15612.doc.htm\" hreflang=\"en\">Briefing Security Council on Afghanistan, Special Representative Urges de Facto Authorities Reverse Repressive Policies towards Women</a>,\n",
       " <a href=\"/en/2024/gaab4453.doc.htm\" hreflang=\"en\">Hold Managers Responsible for Implementing Staff Recruitment Recommendations, Speakers Urge as Fifth Committee Reviews Progress in Strengthening UN Accountability Culture </a>,\n",
       " <a href=\"/en/2024/ga12586.doc.htm-0\" hreflang=\"en\">Veto of Security Council Resolution Calling for Ceasefire in Gaza Emboldens Israel to Continue Crimes against Palestinian people, Speakers Tell General Assembly</a>,\n",
       " <a href=\"/en/2024/ga12586.doc.htm\" hreflang=\"en\">General Assembly: plenary</a>]"
      ]
     },
     "execution_count": 20,
     "metadata": {},
     "output_type": "execute_result"
    }
   ],
   "source": [
    "all_headlines = soup.select(\"#block-un3-press-content .page-header a\")\n",
    "all_headlines[:5]\n"
   ]
  },
  {
   "cell_type": "code",
   "execution_count": null,
   "metadata": {
    "colab": {
     "base_uri": "https://localhost:8080/"
    },
    "id": "f_jl1woQKPd3",
    "outputId": "105a2acb-ced2-47ac-b8da-7626242594c2"
   },
   "outputs": [
    {
     "data": {
      "text/plain": [
       "19"
      ]
     },
     "execution_count": 21,
     "metadata": {},
     "output_type": "execute_result"
    }
   ],
   "source": [
    "# There are 19 headlines\n",
    "len(all_headlines)"
   ]
  },
  {
   "cell_type": "code",
   "execution_count": null,
   "metadata": {
    "colab": {
     "base_uri": "https://localhost:8080/"
    },
    "id": "MkSyIS2rKrf5",
    "outputId": "01522a24-528c-4643-f0ea-79243ae97713"
   },
   "outputs": [
    {
     "data": {
      "text/plain": [
       "['Honor Values of Ramadan in Sudan through Cessation of Hostilities, Secretary-General Urges Security Council, Warning ‘Hunger Is Stalking’, Millions Need Life-saving Aid',\n",
       " 'Briefing Security Council on Afghanistan, Special Representative Urges de Facto Authorities Reverse Repressive Policies towards Women',\n",
       " 'Hold Managers Responsible for Implementing Staff Recruitment Recommendations, Speakers Urge as Fifth Committee Reviews Progress in Strengthening UN Accountability Culture ',\n",
       " 'Veto of Security Council Resolution Calling for Ceasefire in Gaza Emboldens Israel to Continue Crimes against Palestinian people, Speakers Tell General Assembly',\n",
       " 'General Assembly: plenary']"
      ]
     },
     "execution_count": 22,
     "metadata": {},
     "output_type": "execute_result"
    }
   ],
   "source": [
    "# Lets extract all the text in each of the returned items:\n",
    "headline_text = [headline.text for headline in all_headlines]\n",
    "headline_text[:5]"
   ]
  },
  {
   "cell_type": "markdown",
   "metadata": {
    "id": "Pdf33wvxLYWW"
   },
   "source": [
    "We could also return the headline along with the date it was published. We can use the selector gadget and click on additional items we want returned:"
   ]
  },
  {
   "cell_type": "markdown",
   "metadata": {
    "id": "tzYJY1_BI_CQ"
   },
   "source": [
    "\n",
    "<img src=\"https://github.com/IshitaGopal/TRIADS_workshops/raw/main/intro_to_web_scraping/css_select_date_too.png\"  width=\"1000\">"
   ]
  },
  {
   "cell_type": "code",
   "execution_count": null,
   "metadata": {
    "colab": {
     "base_uri": "https://localhost:8080/"
    },
    "id": "S2lIrGzUMduW",
    "outputId": "bc9d0270-52cf-4448-b5f0-9a70b4afa62c"
   },
   "outputs": [
    {
     "data": {
      "text/plain": [
       "[<time class=\"datetime\" datetime=\"2024-03-07T12:00:00Z\">7 March 2024</time>,\n",
       " <a href=\"/en/2024/sc15613.doc.htm\" hreflang=\"en\">Honor Values of Ramadan in Sudan through Cessation of Hostilities, Secretary-General Urges Security Council, Warning ‘Hunger Is Stalking’, Millions Need Life-saving Aid</a>,\n",
       " <time class=\"datetime\" datetime=\"2024-03-06T12:00:00Z\">6 March 2024</time>,\n",
       " <a href=\"/en/2024/sc15612.doc.htm\" hreflang=\"en\">Briefing Security Council on Afghanistan, Special Representative Urges de Facto Authorities Reverse Repressive Policies towards Women</a>,\n",
       " <time class=\"datetime\" datetime=\"2024-03-06T12:00:00Z\">6 March 2024</time>]"
      ]
     },
     "execution_count": 23,
     "metadata": {},
     "output_type": "execute_result"
    }
   ],
   "source": [
    "all_headlinesDate = soup.select('#block-un3-press-content .datetime , #block-un3-press-content .page-header a')\n",
    "all_headlinesDate[:5]\n",
    "# Note that the relative link to the full article in returned in the href attribute"
   ]
  },
  {
   "cell_type": "code",
   "execution_count": null,
   "metadata": {
    "colab": {
     "base_uri": "https://localhost:8080/"
    },
    "id": "BwMxwtn-mzYu",
    "outputId": "db32431c-ae09-4a28-88bd-5f920f80f9ae"
   },
   "outputs": [
    {
     "name": "stdout",
     "output_type": "stream",
     "text": [
      "1\n",
      "3\n",
      "5\n",
      "7\n",
      "9\n",
      "11\n",
      "13\n",
      "15\n",
      "17\n",
      "19\n",
      "21\n",
      "23\n",
      "25\n",
      "27\n",
      "29\n",
      "31\n",
      "33\n",
      "35\n",
      "37\n"
     ]
    }
   ],
   "source": [
    "for i in range(1, len(all_headlinesDate), 2):\n",
    "  print(i)"
   ]
  },
  {
   "cell_type": "code",
   "execution_count": null,
   "metadata": {
    "colab": {
     "base_uri": "https://localhost:8080/"
    },
    "id": "5Qmjl9XuO_MM",
    "outputId": "214a4e9d-a48d-4010-c517-4f10708451a0"
   },
   "outputs": [
    {
     "name": "stdout",
     "output_type": "stream",
     "text": [
      "['7 March 2024', '6 March 2024', '6 March 2024']\n",
      "['Honor Values of Ramadan in Sudan through Cessation of Hostilities, Secretary-General Urges Security Council, Warning ‘Hunger Is Stalking’, Millions Need Life-saving Aid', 'Briefing Security Council on Afghanistan, Special Representative Urges de Facto Authorities Reverse Repressive Policies towards Women', 'Hold Managers Responsible for Implementing Staff Recruitment Recommendations, Speakers Urge as Fifth Committee Reviews Progress in Strengthening UN Accountability Culture ']\n",
      "['https://press.un.org/en/2024/sc15613.doc.htm', 'https://press.un.org/en/2024/sc15612.doc.htm', 'https://press.un.org/en/2024/gaab4453.doc.htm']\n"
     ]
    }
   ],
   "source": [
    "# Lets extract all of this information into seperate lists:\n",
    "# Extracting dates from the list 'all_headlinesDate' with a step of 2\n",
    "headline_date = meeting_date = [all_headlinesDate[i].text for i in range(0, len(all_headlinesDate), 2)]\n",
    "print(headline_date[:3])\n",
    "\n",
    "# Extracting titles from the list 'all_headlinesDate' with a step of 2 starting from index 1\n",
    "headline_title = [all_headlinesDate[i].text for i in range(1, len(all_headlinesDate), 2)]\n",
    "print(headline_title[:3])\n",
    "\n",
    "# Creating article links by combining the base URL and extracting href attributes\n",
    "article_link = [\"https://press.un.org\" + all_headlinesDate[i][\"href\"] for i in range(1, len(all_headlinesDate), 2)]\n",
    "print(article_link[:3])\n"
   ]
  },
  {
   "cell_type": "code",
   "execution_count": null,
   "metadata": {
    "colab": {
     "base_uri": "https://localhost:8080/",
     "height": 645
    },
    "id": "MrOJvxUlOtBY",
    "outputId": "0e71474e-ca9f-4e16-c371-3200a41d7225"
   },
   "outputs": [
    {
     "data": {
      "application/vnd.google.colaboratory.intrinsic+json": {
       "summary": "{\n  \"name\": \"headline_df\",\n  \"rows\": 19,\n  \"fields\": [\n    {\n      \"column\": \"headline_date\",\n      \"properties\": {\n        \"dtype\": \"object\",\n        \"num_unique_values\": 6,\n        \"samples\": [\n          \"7 March 2024\",\n          \"6 March 2024\",\n          \"1 March 2024\"\n        ],\n        \"semantic_type\": \"\",\n        \"description\": \"\"\n      }\n    },\n    {\n      \"column\": \"headline_title\",\n      \"properties\": {\n        \"dtype\": \"string\",\n        \"num_unique_values\": 19,\n        \"samples\": [\n          \"Honor Values of Ramadan in Sudan through Cessation of Hostilities, Secretary-General Urges Security Council, Warning \\u2018Hunger Is Stalking\\u2019, Millions Need Life-saving Aid\",\n          \"If Not Managed Carefully, South Sudan Elections Could Result in \\u2018Disastrous Consequences,\\u2019 Peacekeeping Chief Warns Security Council\",\n          \"Activities of Secretary-General in Switzerland, 25-26 February\"\n        ],\n        \"semantic_type\": \"\",\n        \"description\": \"\"\n      }\n    },\n    {\n      \"column\": \"article_link\",\n      \"properties\": {\n        \"dtype\": \"string\",\n        \"num_unique_values\": 19,\n        \"samples\": [\n          \"https://press.un.org/en/2024/sc15613.doc.htm\",\n          \"https://press.un.org/en/2024/sc15611.doc.htm\",\n          \"https://press.un.org/en/2024/sgt3379.doc.htm\"\n        ],\n        \"semantic_type\": \"\",\n        \"description\": \"\"\n      }\n    }\n  ]\n}",
       "type": "dataframe",
       "variable_name": "headline_df"
      },
      "text/html": [
       "\n",
       "  <div id=\"df-6cdf4c2c-d15d-4db1-a55e-0cbc811d00ad\" class=\"colab-df-container\">\n",
       "    <div>\n",
       "<style scoped>\n",
       "    .dataframe tbody tr th:only-of-type {\n",
       "        vertical-align: middle;\n",
       "    }\n",
       "\n",
       "    .dataframe tbody tr th {\n",
       "        vertical-align: top;\n",
       "    }\n",
       "\n",
       "    .dataframe thead th {\n",
       "        text-align: right;\n",
       "    }\n",
       "</style>\n",
       "<table border=\"1\" class=\"dataframe\">\n",
       "  <thead>\n",
       "    <tr style=\"text-align: right;\">\n",
       "      <th></th>\n",
       "      <th>headline_date</th>\n",
       "      <th>headline_title</th>\n",
       "      <th>article_link</th>\n",
       "    </tr>\n",
       "  </thead>\n",
       "  <tbody>\n",
       "    <tr>\n",
       "      <th>0</th>\n",
       "      <td>7 March 2024</td>\n",
       "      <td>Honor Values of Ramadan in Sudan through Cessa...</td>\n",
       "      <td>https://press.un.org/en/2024/sc15613.doc.htm</td>\n",
       "    </tr>\n",
       "    <tr>\n",
       "      <th>1</th>\n",
       "      <td>6 March 2024</td>\n",
       "      <td>Briefing Security Council on Afghanistan, Spec...</td>\n",
       "      <td>https://press.un.org/en/2024/sc15612.doc.htm</td>\n",
       "    </tr>\n",
       "    <tr>\n",
       "      <th>2</th>\n",
       "      <td>6 March 2024</td>\n",
       "      <td>Hold Managers Responsible for Implementing Sta...</td>\n",
       "      <td>https://press.un.org/en/2024/gaab4453.doc.htm</td>\n",
       "    </tr>\n",
       "    <tr>\n",
       "      <th>3</th>\n",
       "      <td>5 March 2024</td>\n",
       "      <td>Veto of Security Council Resolution Calling fo...</td>\n",
       "      <td>https://press.un.org/en/2024/ga12586.doc.htm-0</td>\n",
       "    </tr>\n",
       "    <tr>\n",
       "      <th>4</th>\n",
       "      <td>5 March 2024</td>\n",
       "      <td>General Assembly: plenary</td>\n",
       "      <td>https://press.un.org/en/2024/ga12586.doc.htm</td>\n",
       "    </tr>\n",
       "    <tr>\n",
       "      <th>5</th>\n",
       "      <td>5 March 2024</td>\n",
       "      <td>If Not Managed Carefully, South Sudan Election...</td>\n",
       "      <td>https://press.un.org/en/2024/sc15611.doc.htm</td>\n",
       "    </tr>\n",
       "    <tr>\n",
       "      <th>6</th>\n",
       "      <td>5 March 2024</td>\n",
       "      <td>Fifth Committee Examines $3 Million Financing ...</td>\n",
       "      <td>https://press.un.org/en/2024/gaab4452.doc.htm</td>\n",
       "    </tr>\n",
       "    <tr>\n",
       "      <th>7</th>\n",
       "      <td>4 March 2024</td>\n",
       "      <td>Amid ‘Catastrophic, Unconscionable, Shameful’ ...</td>\n",
       "      <td>https://press.un.org/en/2024/ga12585.doc.htm</td>\n",
       "    </tr>\n",
       "    <tr>\n",
       "      <th>8</th>\n",
       "      <td>4 March 2024</td>\n",
       "      <td>Syria’s Full Cooperation Essential to Closing ...</td>\n",
       "      <td>https://press.un.org/en/2024/sc15610.doc.htm</td>\n",
       "    </tr>\n",
       "    <tr>\n",
       "      <th>9</th>\n",
       "      <td>7 March 2024</td>\n",
       "      <td>Security Council 2140 Committee Discusses Work...</td>\n",
       "      <td>https://press.un.org/en/2024/sc15614.doc.htm</td>\n",
       "    </tr>\n",
       "    <tr>\n",
       "      <th>10</th>\n",
       "      <td>7 March 2024</td>\n",
       "      <td>Ramadan Cessation of Hostilities Can Help Stem...</td>\n",
       "      <td>https://press.un.org/en/2024/sgsm22146.doc.htm</td>\n",
       "    </tr>\n",
       "    <tr>\n",
       "      <th>11</th>\n",
       "      <td>6 March 2024</td>\n",
       "      <td>Activities of Secretary-General in Switzerland...</td>\n",
       "      <td>https://press.un.org/en/2024/sgt3379.doc.htm</td>\n",
       "    </tr>\n",
       "    <tr>\n",
       "      <th>12</th>\n",
       "      <td>6 March 2024</td>\n",
       "      <td>Activities of Secretary-General in Qatar, 17-2...</td>\n",
       "      <td>https://press.un.org/en/2024/sgt3378.doc.htm</td>\n",
       "    </tr>\n",
       "    <tr>\n",
       "      <th>13</th>\n",
       "      <td>6 March 2024</td>\n",
       "      <td>Activities of Secretary-General in Germany, 14...</td>\n",
       "      <td>https://press.un.org/en/2024/sgt3377.doc.htm</td>\n",
       "    </tr>\n",
       "    <tr>\n",
       "      <th>14</th>\n",
       "      <td>5 March 2024</td>\n",
       "      <td>Secretary-General appoints Mô Bleeker of Switz...</td>\n",
       "      <td>https://press.un.org/en/2024/sga2271.doc.htm</td>\n",
       "    </tr>\n",
       "    <tr>\n",
       "      <th>15</th>\n",
       "      <td>5 March 2024</td>\n",
       "      <td>‘There Can Be No Sustainable Development witho...</td>\n",
       "      <td>https://press.un.org/en/2024/dsgsm1893.doc.htm</td>\n",
       "    </tr>\n",
       "    <tr>\n",
       "      <th>16</th>\n",
       "      <td>4 March 2024</td>\n",
       "      <td>Secretary-General Appoints Najla Nassif Palma ...</td>\n",
       "      <td>https://press.un.org/en/2024/sga2270.doc.htm</td>\n",
       "    </tr>\n",
       "    <tr>\n",
       "      <th>17</th>\n",
       "      <td>2 March 2024</td>\n",
       "      <td>Security Council Press Statement on Incident S...</td>\n",
       "      <td>https://press.un.org/en/2024/sc15608.doc.htm</td>\n",
       "    </tr>\n",
       "    <tr>\n",
       "      <th>18</th>\n",
       "      <td>1 March 2024</td>\n",
       "      <td>Solidarity Critical to Addressing Climate Emer...</td>\n",
       "      <td>https://press.un.org/en/2024/sgsm22145.doc.htm</td>\n",
       "    </tr>\n",
       "  </tbody>\n",
       "</table>\n",
       "</div>\n",
       "    <div class=\"colab-df-buttons\">\n",
       "\n",
       "  <div class=\"colab-df-container\">\n",
       "    <button class=\"colab-df-convert\" onclick=\"convertToInteractive('df-6cdf4c2c-d15d-4db1-a55e-0cbc811d00ad')\"\n",
       "            title=\"Convert this dataframe to an interactive table.\"\n",
       "            style=\"display:none;\">\n",
       "\n",
       "  <svg xmlns=\"http://www.w3.org/2000/svg\" height=\"24px\" viewBox=\"0 -960 960 960\">\n",
       "    <path d=\"M120-120v-720h720v720H120Zm60-500h600v-160H180v160Zm220 220h160v-160H400v160Zm0 220h160v-160H400v160ZM180-400h160v-160H180v160Zm440 0h160v-160H620v160ZM180-180h160v-160H180v160Zm440 0h160v-160H620v160Z\"/>\n",
       "  </svg>\n",
       "    </button>\n",
       "\n",
       "  <style>\n",
       "    .colab-df-container {\n",
       "      display:flex;\n",
       "      gap: 12px;\n",
       "    }\n",
       "\n",
       "    .colab-df-convert {\n",
       "      background-color: #E8F0FE;\n",
       "      border: none;\n",
       "      border-radius: 50%;\n",
       "      cursor: pointer;\n",
       "      display: none;\n",
       "      fill: #1967D2;\n",
       "      height: 32px;\n",
       "      padding: 0 0 0 0;\n",
       "      width: 32px;\n",
       "    }\n",
       "\n",
       "    .colab-df-convert:hover {\n",
       "      background-color: #E2EBFA;\n",
       "      box-shadow: 0px 1px 2px rgba(60, 64, 67, 0.3), 0px 1px 3px 1px rgba(60, 64, 67, 0.15);\n",
       "      fill: #174EA6;\n",
       "    }\n",
       "\n",
       "    .colab-df-buttons div {\n",
       "      margin-bottom: 4px;\n",
       "    }\n",
       "\n",
       "    [theme=dark] .colab-df-convert {\n",
       "      background-color: #3B4455;\n",
       "      fill: #D2E3FC;\n",
       "    }\n",
       "\n",
       "    [theme=dark] .colab-df-convert:hover {\n",
       "      background-color: #434B5C;\n",
       "      box-shadow: 0px 1px 3px 1px rgba(0, 0, 0, 0.15);\n",
       "      filter: drop-shadow(0px 1px 2px rgba(0, 0, 0, 0.3));\n",
       "      fill: #FFFFFF;\n",
       "    }\n",
       "  </style>\n",
       "\n",
       "    <script>\n",
       "      const buttonEl =\n",
       "        document.querySelector('#df-6cdf4c2c-d15d-4db1-a55e-0cbc811d00ad button.colab-df-convert');\n",
       "      buttonEl.style.display =\n",
       "        google.colab.kernel.accessAllowed ? 'block' : 'none';\n",
       "\n",
       "      async function convertToInteractive(key) {\n",
       "        const element = document.querySelector('#df-6cdf4c2c-d15d-4db1-a55e-0cbc811d00ad');\n",
       "        const dataTable =\n",
       "          await google.colab.kernel.invokeFunction('convertToInteractive',\n",
       "                                                    [key], {});\n",
       "        if (!dataTable) return;\n",
       "\n",
       "        const docLinkHtml = 'Like what you see? Visit the ' +\n",
       "          '<a target=\"_blank\" href=https://colab.research.google.com/notebooks/data_table.ipynb>data table notebook</a>'\n",
       "          + ' to learn more about interactive tables.';\n",
       "        element.innerHTML = '';\n",
       "        dataTable['output_type'] = 'display_data';\n",
       "        await google.colab.output.renderOutput(dataTable, element);\n",
       "        const docLink = document.createElement('div');\n",
       "        docLink.innerHTML = docLinkHtml;\n",
       "        element.appendChild(docLink);\n",
       "      }\n",
       "    </script>\n",
       "  </div>\n",
       "\n",
       "\n",
       "<div id=\"df-7ee2d6ac-8a5f-47c9-9d61-c32e33d0cd56\">\n",
       "  <button class=\"colab-df-quickchart\" onclick=\"quickchart('df-7ee2d6ac-8a5f-47c9-9d61-c32e33d0cd56')\"\n",
       "            title=\"Suggest charts\"\n",
       "            style=\"display:none;\">\n",
       "\n",
       "<svg xmlns=\"http://www.w3.org/2000/svg\" height=\"24px\"viewBox=\"0 0 24 24\"\n",
       "     width=\"24px\">\n",
       "    <g>\n",
       "        <path d=\"M19 3H5c-1.1 0-2 .9-2 2v14c0 1.1.9 2 2 2h14c1.1 0 2-.9 2-2V5c0-1.1-.9-2-2-2zM9 17H7v-7h2v7zm4 0h-2V7h2v10zm4 0h-2v-4h2v4z\"/>\n",
       "    </g>\n",
       "</svg>\n",
       "  </button>\n",
       "\n",
       "<style>\n",
       "  .colab-df-quickchart {\n",
       "      --bg-color: #E8F0FE;\n",
       "      --fill-color: #1967D2;\n",
       "      --hover-bg-color: #E2EBFA;\n",
       "      --hover-fill-color: #174EA6;\n",
       "      --disabled-fill-color: #AAA;\n",
       "      --disabled-bg-color: #DDD;\n",
       "  }\n",
       "\n",
       "  [theme=dark] .colab-df-quickchart {\n",
       "      --bg-color: #3B4455;\n",
       "      --fill-color: #D2E3FC;\n",
       "      --hover-bg-color: #434B5C;\n",
       "      --hover-fill-color: #FFFFFF;\n",
       "      --disabled-bg-color: #3B4455;\n",
       "      --disabled-fill-color: #666;\n",
       "  }\n",
       "\n",
       "  .colab-df-quickchart {\n",
       "    background-color: var(--bg-color);\n",
       "    border: none;\n",
       "    border-radius: 50%;\n",
       "    cursor: pointer;\n",
       "    display: none;\n",
       "    fill: var(--fill-color);\n",
       "    height: 32px;\n",
       "    padding: 0;\n",
       "    width: 32px;\n",
       "  }\n",
       "\n",
       "  .colab-df-quickchart:hover {\n",
       "    background-color: var(--hover-bg-color);\n",
       "    box-shadow: 0 1px 2px rgba(60, 64, 67, 0.3), 0 1px 3px 1px rgba(60, 64, 67, 0.15);\n",
       "    fill: var(--button-hover-fill-color);\n",
       "  }\n",
       "\n",
       "  .colab-df-quickchart-complete:disabled,\n",
       "  .colab-df-quickchart-complete:disabled:hover {\n",
       "    background-color: var(--disabled-bg-color);\n",
       "    fill: var(--disabled-fill-color);\n",
       "    box-shadow: none;\n",
       "  }\n",
       "\n",
       "  .colab-df-spinner {\n",
       "    border: 2px solid var(--fill-color);\n",
       "    border-color: transparent;\n",
       "    border-bottom-color: var(--fill-color);\n",
       "    animation:\n",
       "      spin 1s steps(1) infinite;\n",
       "  }\n",
       "\n",
       "  @keyframes spin {\n",
       "    0% {\n",
       "      border-color: transparent;\n",
       "      border-bottom-color: var(--fill-color);\n",
       "      border-left-color: var(--fill-color);\n",
       "    }\n",
       "    20% {\n",
       "      border-color: transparent;\n",
       "      border-left-color: var(--fill-color);\n",
       "      border-top-color: var(--fill-color);\n",
       "    }\n",
       "    30% {\n",
       "      border-color: transparent;\n",
       "      border-left-color: var(--fill-color);\n",
       "      border-top-color: var(--fill-color);\n",
       "      border-right-color: var(--fill-color);\n",
       "    }\n",
       "    40% {\n",
       "      border-color: transparent;\n",
       "      border-right-color: var(--fill-color);\n",
       "      border-top-color: var(--fill-color);\n",
       "    }\n",
       "    60% {\n",
       "      border-color: transparent;\n",
       "      border-right-color: var(--fill-color);\n",
       "    }\n",
       "    80% {\n",
       "      border-color: transparent;\n",
       "      border-right-color: var(--fill-color);\n",
       "      border-bottom-color: var(--fill-color);\n",
       "    }\n",
       "    90% {\n",
       "      border-color: transparent;\n",
       "      border-bottom-color: var(--fill-color);\n",
       "    }\n",
       "  }\n",
       "</style>\n",
       "\n",
       "  <script>\n",
       "    async function quickchart(key) {\n",
       "      const quickchartButtonEl =\n",
       "        document.querySelector('#' + key + ' button');\n",
       "      quickchartButtonEl.disabled = true;  // To prevent multiple clicks.\n",
       "      quickchartButtonEl.classList.add('colab-df-spinner');\n",
       "      try {\n",
       "        const charts = await google.colab.kernel.invokeFunction(\n",
       "            'suggestCharts', [key], {});\n",
       "      } catch (error) {\n",
       "        console.error('Error during call to suggestCharts:', error);\n",
       "      }\n",
       "      quickchartButtonEl.classList.remove('colab-df-spinner');\n",
       "      quickchartButtonEl.classList.add('colab-df-quickchart-complete');\n",
       "    }\n",
       "    (() => {\n",
       "      let quickchartButtonEl =\n",
       "        document.querySelector('#df-7ee2d6ac-8a5f-47c9-9d61-c32e33d0cd56 button');\n",
       "      quickchartButtonEl.style.display =\n",
       "        google.colab.kernel.accessAllowed ? 'block' : 'none';\n",
       "    })();\n",
       "  </script>\n",
       "</div>\n",
       "\n",
       "  <div id=\"id_179d904e-bc09-4889-a2be-f5de0640defe\">\n",
       "    <style>\n",
       "      .colab-df-generate {\n",
       "        background-color: #E8F0FE;\n",
       "        border: none;\n",
       "        border-radius: 50%;\n",
       "        cursor: pointer;\n",
       "        display: none;\n",
       "        fill: #1967D2;\n",
       "        height: 32px;\n",
       "        padding: 0 0 0 0;\n",
       "        width: 32px;\n",
       "      }\n",
       "\n",
       "      .colab-df-generate:hover {\n",
       "        background-color: #E2EBFA;\n",
       "        box-shadow: 0px 1px 2px rgba(60, 64, 67, 0.3), 0px 1px 3px 1px rgba(60, 64, 67, 0.15);\n",
       "        fill: #174EA6;\n",
       "      }\n",
       "\n",
       "      [theme=dark] .colab-df-generate {\n",
       "        background-color: #3B4455;\n",
       "        fill: #D2E3FC;\n",
       "      }\n",
       "\n",
       "      [theme=dark] .colab-df-generate:hover {\n",
       "        background-color: #434B5C;\n",
       "        box-shadow: 0px 1px 3px 1px rgba(0, 0, 0, 0.15);\n",
       "        filter: drop-shadow(0px 1px 2px rgba(0, 0, 0, 0.3));\n",
       "        fill: #FFFFFF;\n",
       "      }\n",
       "    </style>\n",
       "    <button class=\"colab-df-generate\" onclick=\"generateWithVariable('headline_df')\"\n",
       "            title=\"Generate code using this dataframe.\"\n",
       "            style=\"display:none;\">\n",
       "\n",
       "  <svg xmlns=\"http://www.w3.org/2000/svg\" height=\"24px\"viewBox=\"0 0 24 24\"\n",
       "       width=\"24px\">\n",
       "    <path d=\"M7,19H8.4L18.45,9,17,7.55,7,17.6ZM5,21V16.75L18.45,3.32a2,2,0,0,1,2.83,0l1.4,1.43a1.91,1.91,0,0,1,.58,1.4,1.91,1.91,0,0,1-.58,1.4L9.25,21ZM18.45,9,17,7.55Zm-12,3A5.31,5.31,0,0,0,4.9,8.1,5.31,5.31,0,0,0,1,6.5,5.31,5.31,0,0,0,4.9,4.9,5.31,5.31,0,0,0,6.5,1,5.31,5.31,0,0,0,8.1,4.9,5.31,5.31,0,0,0,12,6.5,5.46,5.46,0,0,0,6.5,12Z\"/>\n",
       "  </svg>\n",
       "    </button>\n",
       "    <script>\n",
       "      (() => {\n",
       "      const buttonEl =\n",
       "        document.querySelector('#id_179d904e-bc09-4889-a2be-f5de0640defe button.colab-df-generate');\n",
       "      buttonEl.style.display =\n",
       "        google.colab.kernel.accessAllowed ? 'block' : 'none';\n",
       "\n",
       "      buttonEl.onclick = () => {\n",
       "        google.colab.notebook.generateWithVariable('headline_df');\n",
       "      }\n",
       "      })();\n",
       "    </script>\n",
       "  </div>\n",
       "\n",
       "    </div>\n",
       "  </div>\n"
      ],
      "text/plain": [
       "   headline_date                                     headline_title  \\\n",
       "0   7 March 2024  Honor Values of Ramadan in Sudan through Cessa...   \n",
       "1   6 March 2024  Briefing Security Council on Afghanistan, Spec...   \n",
       "2   6 March 2024  Hold Managers Responsible for Implementing Sta...   \n",
       "3   5 March 2024  Veto of Security Council Resolution Calling fo...   \n",
       "4   5 March 2024                          General Assembly: plenary   \n",
       "5   5 March 2024  If Not Managed Carefully, South Sudan Election...   \n",
       "6   5 March 2024  Fifth Committee Examines $3 Million Financing ...   \n",
       "7   4 March 2024  Amid ‘Catastrophic, Unconscionable, Shameful’ ...   \n",
       "8   4 March 2024  Syria’s Full Cooperation Essential to Closing ...   \n",
       "9   7 March 2024  Security Council 2140 Committee Discusses Work...   \n",
       "10  7 March 2024  Ramadan Cessation of Hostilities Can Help Stem...   \n",
       "11  6 March 2024  Activities of Secretary-General in Switzerland...   \n",
       "12  6 March 2024  Activities of Secretary-General in Qatar, 17-2...   \n",
       "13  6 March 2024  Activities of Secretary-General in Germany, 14...   \n",
       "14  5 March 2024  Secretary-General appoints Mô Bleeker of Switz...   \n",
       "15  5 March 2024  ‘There Can Be No Sustainable Development witho...   \n",
       "16  4 March 2024  Secretary-General Appoints Najla Nassif Palma ...   \n",
       "17  2 March 2024  Security Council Press Statement on Incident S...   \n",
       "18  1 March 2024  Solidarity Critical to Addressing Climate Emer...   \n",
       "\n",
       "                                      article_link  \n",
       "0     https://press.un.org/en/2024/sc15613.doc.htm  \n",
       "1     https://press.un.org/en/2024/sc15612.doc.htm  \n",
       "2    https://press.un.org/en/2024/gaab4453.doc.htm  \n",
       "3   https://press.un.org/en/2024/ga12586.doc.htm-0  \n",
       "4     https://press.un.org/en/2024/ga12586.doc.htm  \n",
       "5     https://press.un.org/en/2024/sc15611.doc.htm  \n",
       "6    https://press.un.org/en/2024/gaab4452.doc.htm  \n",
       "7     https://press.un.org/en/2024/ga12585.doc.htm  \n",
       "8     https://press.un.org/en/2024/sc15610.doc.htm  \n",
       "9     https://press.un.org/en/2024/sc15614.doc.htm  \n",
       "10  https://press.un.org/en/2024/sgsm22146.doc.htm  \n",
       "11    https://press.un.org/en/2024/sgt3379.doc.htm  \n",
       "12    https://press.un.org/en/2024/sgt3378.doc.htm  \n",
       "13    https://press.un.org/en/2024/sgt3377.doc.htm  \n",
       "14    https://press.un.org/en/2024/sga2271.doc.htm  \n",
       "15  https://press.un.org/en/2024/dsgsm1893.doc.htm  \n",
       "16    https://press.un.org/en/2024/sga2270.doc.htm  \n",
       "17    https://press.un.org/en/2024/sc15608.doc.htm  \n",
       "18  https://press.un.org/en/2024/sgsm22145.doc.htm  "
      ]
     },
     "execution_count": 25,
     "metadata": {},
     "output_type": "execute_result"
    }
   ],
   "source": [
    "# Let's convert all this data it into a pandas dataframe\n",
    "headline_df = pd.DataFrame({\"headline_date\":headline_date,\n",
    "              \"headline_title\":headline_title,\n",
    "              \"article_link\": article_link})\n",
    "\n",
    "headline_df"
   ]
  },
  {
   "cell_type": "code",
   "execution_count": null,
   "metadata": {
    "id": "g6rWFVOkR1fU"
   },
   "outputs": [],
   "source": [
    "# We can loop throught the collected article links and gather the text from the entire article:\n",
    "article_text = []\n",
    "for link in article_link:\n",
    "  response = requests.get(link)\n",
    "  soup = BeautifulSoup(response.content, 'html.parser')\n",
    "  text = \" \".join([p.text for p in soup.select(\"#block-un3-press-content p\")])\n",
    "  article_text.append(text)"
   ]
  },
  {
   "cell_type": "code",
   "execution_count": null,
   "metadata": {
    "colab": {
     "base_uri": "https://localhost:8080/",
     "height": 888
    },
    "id": "vHL9LWecHJBA",
    "outputId": "15605797-ed6a-4107-ad56-5c08a72d5033"
   },
   "outputs": [
    {
     "data": {
      "application/vnd.google.colaboratory.intrinsic+json": {
       "summary": "{\n  \"name\": \"headline_df\",\n  \"rows\": 19,\n  \"fields\": [\n    {\n      \"column\": \"headline_date\",\n      \"properties\": {\n        \"dtype\": \"object\",\n        \"num_unique_values\": 6,\n        \"samples\": [\n          \"7 March 2024\",\n          \"6 March 2024\",\n          \"1 March 2024\"\n        ],\n        \"semantic_type\": \"\",\n        \"description\": \"\"\n      }\n    },\n    {\n      \"column\": \"headline_title\",\n      \"properties\": {\n        \"dtype\": \"string\",\n        \"num_unique_values\": 19,\n        \"samples\": [\n          \"Honor Values of Ramadan in Sudan through Cessation of Hostilities, Secretary-General Urges Security Council, Warning \\u2018Hunger Is Stalking\\u2019, Millions Need Life-saving Aid\",\n          \"If Not Managed Carefully, South Sudan Elections Could Result in \\u2018Disastrous Consequences,\\u2019 Peacekeeping Chief Warns Security Council\",\n          \"Activities of Secretary-General in Switzerland, 25-26 February\"\n        ],\n        \"semantic_type\": \"\",\n        \"description\": \"\"\n      }\n    },\n    {\n      \"column\": \"article_link\",\n      \"properties\": {\n        \"dtype\": \"string\",\n        \"num_unique_values\": 19,\n        \"samples\": [\n          \"https://press.un.org/en/2024/sc15613.doc.htm\",\n          \"https://press.un.org/en/2024/sc15611.doc.htm\",\n          \"https://press.un.org/en/2024/sgt3379.doc.htm\"\n        ],\n        \"semantic_type\": \"\",\n        \"description\": \"\"\n      }\n    },\n    {\n      \"column\": \"article_text\",\n      \"properties\": {\n        \"dtype\": \"string\",\n        \"num_unique_values\": 19,\n        \"samples\": [\n          \"April will mark one year since the outbreak of brutal fighting between the Sudanese Armed Forces and the Rapid Support Forces, United Nations Secretary-General Ant\\u00f3nio Guterres told the Security Council today, calling on all parties in Sudan to \\u201chonour the values of Ramadan\\u201d by observing a cessation of hostilities during the holy month. \\u201cIt is time to silence the guns and raise the volume for peace,\\u201d he urged. \\u00a0Renewed offensives, fears of hostilities and calls to arm civilians threaten to further fragment the country, deepen tensions between and within communities and engender more ethnic violence. \\u00a0At the same time, over half of Sudan\\u2019s population \\u2014 some 25\\u00a0million people \\u2014 need life-saving assistance, and the country is now home to the world\\u2019s largest internal-displacement crisis. \\u00a0\\u201cHunger is stalking Sudan,\\u201d he added. While the UN and its humanitarian partners are working to alleviate this suffering, he reported that the Organization faces major challenges as it tries to reach the millions in need. \\u00a0National authorities must allow full, immediate access to all vulnerable populations \\u2014 regardless of where they are and who controls the area \\u2014 and, in the wake of troubling reports of systematic conflict-related sexual violence, both parties must uphold their obligations under international humanitarian law. He also reported that, following the recent drawdown of the United Nations Integrated Transition Assistance Mission in the Sudan (UNITAMS), the technical liquidation period has commenced. \\u00a0He urged, however:\\u00a0 \\u201cAlthough that Mission has drawn down, our collective work for peace must ramp up.\\u201d In the discussion that followed, many Council members called on both parties to comply with their obligations under international law. \\u00a0On that, they spotlighted the killing of civilians, destruction of infrastructure, sexual violence and violations against children. \\u00a0Many also called on national authorities to facilitate the delivery of humanitarian aid and voiced support for the Secretary-General\\u2019s call for a cessation of hostilities during Ramadan. For his part, Sudan\\u2019s representative commended that call. \\u00a0However, he said:\\u00a0 \\u201cAll those who would like to see that appeal transformed into action are welcome if they would like to present a mechanism for implementation.\\u201d \\u00a0He also reported on the Government\\u2019s efforts to facilitate the entry of humanitarian workers to ensure the delivery of supplies and services in a safe and organized manner. \\u00a0However, he stressed that a lack of coordination among different partners must be addressed to attract aid as well as local, regional and international support. Calling for such coordination was Algeria\\u2019s representative, also speaking for Guyana, Mozambique and Sierra Leone, who said that aligning regional and international efforts is a priority \\u2014 particularly the African Union\\u2019s role in resolving the Sudanese crisis. \\u00a0He also joined others in expressing concern that external actors are fuelling that crisis, instead of helping to advance peace efforts. \\u00a0\\u201cLet us be clear: external interferences have to be publicly and firmly condemned,\\u201d he said. The representative of the Republic of Korea echoed that, calling on regional and international players to use their influence and resources to work constructively towards ending hostilities, rather than contributing to them. \\u00a0On the Organization\\u2019s role in Sudan, he stressed that a robust UN presence is needed amidst a devastating humanitarian crisis and intensifying war, urging that the UN country team continue its work and that those present consider a \\u201cpost-UNITAMS UN presence\\u201d in Sudan. \\u201cCooperation between the UN and Sudan should continue,\\u201d said China\\u2019s representative, while underscoring the need to \\u201cmeet the country\\u2019s actual needs\\u201d and provide \\u201ctangible support to its peace and development\\u201d. \\u00a0He also agreed on the need to ensure humanitarian access \\u2014 welcoming the Sudanese Government\\u2019s recent decision to open certain border crossings to UN humanitarian agencies \\u2014 and called on the warring parties to de-escalate the situation and create conditions for peace talks. Switzerland\\u2019s representative, meanwhile, spotlighted reports of unspeakable human-rights violations, stating that \\u201cwomen\\u2019s bodies have been a despicable part of the battlefield\\u201d and that \\u201cethnicity has, once again, become a matter of life and death\\u201d. \\u00a0Further, such crimes occur in a context of near-total impunity. \\u00a0\\u201cWe cannot remain silent in the face of such a human tragedy,\\u201d she stressed, calling on the Council to assume its responsibility to protect the Sudanese people. The representative of Slovenia also voiced alarm over increasing violence against civilian populations and infrastructure, as well as against UN humanitarian and medical workers across all conflicts \\u2014 especially in Sudan and Gaza.\\u00a0 He underscored:\\u00a0 \\u201cThis is a dangerous trend, so we urge a clear and forceful call by the Security Council against the unravelling of respect for international humanitarian and human-rights law.\\u201d REPORTS OF THE SECRETARY-GENERAL ON SUDAN AND SOUTH SUDAN Briefing ANT\\u00d3NIO GUTERRES, Secretary-General of the United Nations, observed that April will mark one year since the outbreak of brutal fighting between the Sudanese Armed Forces and the Rapid Support Forces.\\u00a0 The conflict has taken a devastating toll on the people of Sudan, and he said that there is now serious risk that it could ignite \\u201cregional instability of dramatic proportions\\u201d.\\u00a0 Renewed offensives are taking place in the states of Khartoum and Gezira and elsewhere, and the bloodshed has recently forced the suspension of operations out of a critical humanitarian hub in Wad Madani.\\u00a0 Moreover, there are growing fears of further expansion of hostilities east, and he expressed concern over calls for arming civilians as well as popular mobilization activities in various states.\\u00a0 These developments, he stressed, threaten to further fragment the country, deepen intra- and inter-communal tensions and engender more ethnic violence. \\u201cIt is time to silence the guns and raise the volume for peace,\\u201d he urged, calling on all parties in Sudan to \\u201chonour the values of Ramadan\\u201d \\u2014 which will soon commence \\u2014 by observing a cessation of hostilities during the holy month.\\u00a0 This cessation must lead to a definitive silencing of the guns across the country and set out a firm path towards lasting peace.\\u00a0 Stating that the humanitarian crisis in Sudan is reaching \\u201ccolossal proportions\\u201d, he said that half the population \\u2014 some 25\\u00a0million people \\u2014 need life-saving assistance.\\u00a0 Over 14,000 people have been killed \\u2014 although that number is likely far higher \\u2014 and Sudan is now home to the world\\u2019s largest internal-displacement crisis, with 6.3\\u00a0million seeking safety within the country since the start of the conflict.\\u00a0 Another 1.7\\u00a0million people have fled to neighbouring countries.\\u00a0 Additionally, the conflict has destroyed civilian infrastructure and brought basic services to a standstill.\\u00a0 \\u201cHunger is stalking Sudan,\\u201d he added. While the UN and its humanitarian partners are working to alleviate this suffering, he reported that the Organization faces major challenges as it tries to reach the millions in need.\\u00a0 He welcomed recent decisions by Sudanese authorities to facilitate cross-line access and the use of three airports for humanitarian flights, as well as allow the use of cross-border points into areas under their control, including one border point from Chad \\u2014 \\u201cwhich we urge be sustained beyond the movement of prepositioned supplies\\u201d.\\u00a0 He underlined, however, the need to address chronic food insecurity in parts of Darfur and other hard-to-reach areas.\\u00a0 \\u201cCountless lives are at stake, and time is of the essence,\\u201d he stressed, calling on national authorities to allow full, immediate humanitarian access to all vulnerable populations \\u2014 regardless of where they are and who controls the area. He went on to note that indiscriminate attacks by the Rapid Support Forces and the Sudanese Armed Forces have killed or injured a significant number of civilians, alongside troubling reports of systematic conflict-related sexual violence.\\u00a0 He therefore called on the parties to uphold their obligations under international humanitarian law.\\u00a0 Welcoming regional and international efforts to resolve the conflict, he emphasized that the UN stands ready to intensify engagement with its multilateral partners \\u2014 including the African Union, the Intergovernmental Authority on Development (IGAD) and the League of Arab States \\u2014 towards a durable cessation of hostilities and an inclusive international mediation.\\u00a0 He added that, following the recent drawdown of the United Nations Integrated Transition Assistance Mission in the Sudan (UNITAMS), the technical liquidation period has commenced.\\u00a0 He urged, however:\\u00a0 \\u201cAlthough that Mission has drawn down, our collective work for peace must ramp up.\\u201d Statements The representative of the United Kingdom underscored that the Sudanese Armed Forces and Rapid Support Forces bear responsibility for the horrendous situation in Sudan.\\u00a0 Shelling and attacks from both sides in heavily populated, urban areas and across the entire western region of Sudan continue to kill and terrorize civilians.\\u00a0\\u201cThe situation for children is particularly unbearable,\\u201d he said, noting that 4\\u00a0million have been displaced while over 700,000 will suffer from the deadliest form of malnutrition this year.\\u00a0\\u201cSudanese children have missed a year of school and face the fear of not knowing when they will receive their next meal.\\u201d\\u00a0 Citing the Sudanese Armed Force\\u2019s withdrawal of permission for cross-border humanitarian aid deliveries from Adre in Chad as \\u201cindefensible\\u201d, he called on the Sudanese authorities to remove the deliberate obstructionism and facilitate crossline and other cross-border routes for the delivery of life-saving assistance.\\u00a0 The representative of Malta cautioned that Sudan \\u2014 \\u201chome to the largest displacement crisis globally\\u201d \\u2014 is on the brink of a grave food insecurity crisis.\\u00a0 The spread of preventable diseases such as cholera, dengue fever, malaria and measles further compounds the catastrophe. \\u00a0Accordingly, she urged both the Sudanese Armed Forces and the Rapid Support Forces to cease hostilities and stop using starvation as a weapon of war.\\u00a0 Amidst the brutal violence, warring factions are escalating their targeted attacks on health-care facilities and committing severe violations of international humanitarian law. \\u00a0The Sudanese population is enduring inhumane conditions, forced to take sides for survival as inter-ethnic violence escalates.\\u00a0Against this backdrop, she supported the ongoing regional and diplomatic initiatives \\u2014 including the Jeddah talks \\u2014 aimed at de-escalation and bringing warring factions to the negotiating table.\\u00a0She also condemned the flow of arms into Sudan, noting that such actions violate the arms embargo. The representative of Algeria spoke also for Guyana, Mozambique and Sierra Leone to highlight the deteriorating humanitarian situation, which he described as \\u201cthe largest displacement crisis in the world with a high risk of acute food insecurity threatening millions of Sudanese, particularly in Darfur\\u201d. \\u00a0Calling on all the Sudanese actors to declare an immediate ceasefire, he asked the warring parties to put aside their differences and consider the opportunity of Ramadan \\u2014 a month of peace \\u2014 to embark on a path of appeasement and restraint for a durable peace in Sudan. \\u00a0He\\u00a0welcomed the announced decision of the Sudanese authorities to facilitate humanitarian access through several border crossing points as well as the announcement of a new round of talks under the Jeddah process facilitated by Saudi Arabia, the United States and IGAD, which also represents the African Union.\\u00a0 Turning to diplomatic efforts, he noted the lack of coordination between the different diplomatic tracks and said coordinating regional and international efforts is a priority, particularly the African Union\\u2019s role in resolving the Sudanese crisis. \\u00a0The establishment of an African Union high-level panel on Sudan will bring clear added value and support to the peace process. \\u00a0He expressed concern over the crisis\\u2019 impact on\\u00a0neighbouring countries, particularly South Sudan, which is already witnessing the dire effects of humanitarian challenges with more than half a million refugees and returnees having crossed the border as of February\\u00a02024.\\u00a0 He said he was troubled by reports that external actors are fueling the crisis in Sudan, instead of helping to advance peace efforts. \\u00a0\\u201cLet us be clear, external interferences have to be publicly and firmly condemned,\\u201d he said, declaring: \\u201cPeace must prevail in the Sudan.\\u201d The representative of Guyana spoke also for Switzerland, noting that they serve as informal co-focal points on conflict and hunger in response to increasing warnings of famine in Sudan.\\u00a0 \\u201cRecent figures are appalling,\\u201d she said, citing 18\\u00a0million Sudanese acutely food insecure, including 5\\u00a0million at risk of dying due to malnutrition. \\u00a0\\u201cThis is the worst hunger level ever recorded during Sudan\\u2019s harvest season,\\u201d she said.\\u00a0 Underscoring the already dire humanitarian situation facing 3.8\\u00a0million children, she said that tens of thousands will likely die if there is no action. \\u00a0Since December\\u00a02023, the conflict has spread into the country\\u2019s breadbasket, jeopardizing the harvests and destroying critical food systems and agricultural infrastructure. \\u00a0\\u201cLikely scenarios indicate that the severity and scale of hunger in the coming lean season will be devastating,\\u201d she warned, adding that by June\\u00a02024, a shocking 7\\u00a0million people might face famine. \\u201cThe situation in Sudan is nothing short of catastrophic,\\u201d she said, adding that the window of opportunity to significantly reduce the impact of the crisis is rapidly closing. \\u00a0She expressed regret that in February, that country\\u2019s authorities withdrew its authorization for cross-border humanitarian operations from Chad into Sudan. \\u00a0Humanitarian access must be allowed, including cross-border and cross-line access. \\u00a0Bureaucratic and administrative obstacles must be removed. \\u00a0In adopting resolution 2417 (2018), the Council demonstrated its determination to address conflict-induced food insecurity, including famine.\\u00a0 The resolution is clear in condemning the unlawful denial of humanitarian access and the use of starvation as a method of warfare.\\u00a0 \\u00a0The Council should give its full attention to the catastrophic situation in Sudan, she said, calling on the warring parties to stop the fighting and comply with their obligations under international humanitarian law.\\u00a0 The representative of the Republic of Korea, expressing concern over the warring parties\\u2019 \\u201crelentless struggle for power and control\\u201d, supported the Secretary-General\\u2019s call for a Ramadan cessation of hostilities.\\u00a0While welcoming Sudanese authorities\\u2019 reversal of their decision to block certain cross-border aid, he voiced alarm that both warring parties continue to commit serious violations of international law and emphasized that perpetrators \\u201cmay be subject to targeted sanctions measures\\u201d.\\u00a0 For their part, regional and international players must use their influence and resources to work constructively towards ending hostilities \\u2014 rather than fuelling them \\u2014 and the entry of weapons into Darfur is a flagrant violation of the arms embargo established by relevant Council resolutions.\\u00a0 On the UN\\u2019s role in Sudan, he stressed that a robust UN presence is needed amidst a devastating humanitarian crisis and intensifying war, urging that the UN country team continue its work and that those present consider a \\u201cpost-UNITAMS UN presence\\u201d in Sudan. The representative of China warned about the growing spillover effect of the raging conflict in Sudan, which has already caused many civilian casualties and a grave humanitarian crisis.\\u00a0 Calling for the cessation of hostilities, he urged the warring parties to de-escalate the situation and create conditions for peace talks.\\u00a0 In the meantime, it is critical to ensure humanitarian access, he said, welcoming the recent decision of Sudan\\u2019s Government to open some border crossings to UN humanitarian agencies.\\u00a0 While underlining the need to respect Sudan\\u2019s sovereignty and territorial integrity, he supported regional mediation efforts and urged the Council to strengthen coordination with the African Union and other regional organizations.\\u00a0 Even though UNITAMS has completed its withdrawal and commenced the liquidation process, \\u201ccooperation between the UN and Sudan should continue\\u201d, he asserted, underscoring the need to \\u201cmeet the country\\u2019s actual needs\\u201d and provide \\u201ctangible support to its peace and development\\u201d. The representative of Ecuador sounded the alarm over reports of rape, sexual exploitation, abductions, and captivity of Sudanese women and girls.\\u00a0 Noting the growing call by the warring parties to arm civilians, he said that this signals a dangerous trajectory, which may further fragment the country and deepen intra-community tensions. \\u00a0He called on States not to transfer weapons or military resources that could be used against civilian populations.\\u00a0 UNITAMS withdrawal should not hinder the work of the UN country team, including the provision of humanitarian assistance.\\u00a0 Echoing the Secretary-General\\u2019s call, he expressed hope that the beginning of Ramadan will give way to the cessation of hostilities and that a peaceful solution will be found.\\u00a0 \\u201cPeace cannot wait any longer, it\\u2019s time for a revitalized, complementary, and inclusive international effort in Sudan,\\u201d he said. The representative of Slovenia called on both parties to silence their guns, commit to a ceasefire and return to an inclusive political process.\\u00a0 Further, all parties to the conflict must fully respect international law, he stressed, voicing alarm over increasing violence against civilian populations and infrastructure as well as against UN humanitarian and medical workers across all conflicts \\u2014 especially in Sudan and Gaza.\\u00a0 He underscored:\\u00a0 \\u201cThis is a dangerous trend, so we urge a clear and forceful call by the Security Council against the unravelling of respect for international humanitarian and human-rights law.\\u201d\\u00a0 Reports documenting human-rights violations by all parties to the conflict, thousands dead and millions displaced \\u201care beyond disturbing\\u201d, he stressed, spotlighting ethnically targeted attacks in Darfur and widespread sexual violence there.\\u00a0He reiterated the responsibility of all parties to the conflict to prevent and respond to conflict-related sexual violence, including by issuing clear command orders prohibiting such violence. The representative of the Russian Federation said that, in the report on the situation in Sudan, \\u201cthe Sudanese are constantly being asked or blamed for something.\\u201d\\u00a0 However, \\u201cwhat they need is not a criticism but good advice and useful recommendation.\\u201d\\u00a0Constructive cooperation with Sudan is vital to help restore the trust in the UN, which was lost due to inconsistent steps taken by UNITAMS\\u2019 former leaders.\\u00a0 The humanitarian situation in Sudan was nearing a catastrophe when the Sudanese authorities decided to suspend humanitarian supplies at the Sudan-Chad border.\\u00a0 Nevertheless, lowering the level of humanitarian cooperation with the current authorities would be short-sighted as they bear all responsibility for rectifying the current humanitarian situation and facilitating the distribution of deliveries.\\u00a0\\u201cRejecting that is tantamount to compounding the already dire situation of the Sudanese,\\u201d she cautioned, noting that supplies from Chad will not resolve the issue.\\u00a0 Instead, she emphasized that supplies must be stepped up to various points under the control of the central authorities. The representative of France expressed support for the Secretary-General\\u2019s proposal for a Ramadan ceasefire, urging the Council to swiftly endorse the United Kingdom-led resolution in support of that call.\\u00a0 He also encouraged the warring parties to agree on the modalities for resuming dialogue without delays and preconditions.\\u00a0 Peace initiatives must be better coordinated. \\u00a0Twenty years ago, the United Nations and the African Union were able to succeed, including by deploying missions for the protection of civilians. \\u00a0Stressing the need to formalize a single framework to facilitate the resolution of the conflict, he voiced support for the efforts of the Secretary-General\\u2019s Personal Envoy in conjunction with all regional and international actors as well as Sudanese civilian political actors. \\u00a0With the European Union and Germany, France will organize a humanitarian conference for Sudan and its neighbouring countries in Paris on 15\\u00a0April. \\u00a0The Union mobilized \\u20ac500\\u00a0million in 2023 to respond to this crisis, a third of the international response, and his country has also provided \\u20ac55\\u00a0million in such aid. The representative of Switzerland said that \\u2014 almost one year since the outbreak of the conflict \\u2014 there has been so much loss, destruction, suffering, and trauma that \\u201cSudan is threatened in its very existence\\u201d.\\u00a0Highlighting reports of unspeakable human rights violations, she said that \\u201cwomen's bodies have been a despicable part of the battlefield\\u201d while \\u201cethnicity has once again become a matter of life and death.\\u201d\\u00a0 Such crimes occur in a context of \\u201calmost total impunity and lack of accountability\\u201d.\\u00a0Accordingly, she urged the warring parties to cease hostilities immediately, respect their obligations under international law and cooperate with human rights mechanisms, including the independent fact-finding mission. \\u00a0She also called on the parties to facilitate unhindered humanitarian access across borders and frontlines and on the Sudanese authorities to reduce administrative impediments. \\u00a0\\u201cWe cannot remain silent in the face of such a human tragedy,\\u201d she stated, adding that the Council must assume its responsibility to protect the Sudanese people who desperately want to live in peace. The representative of the United States demanded that the parties \\u201cdo more to protect \\u2014 not target \\u2014 civilians in all circumstances\\u201d, respect human rights and comply with their obligations under international law.\\u00a0Further, he urged regional Powers to immediately end the provision of weapons to parties in Sudan in flagrant violation of the UN arms embargo, which is fuelling fighting and massacres across the country.\\u00a0 This is particularly true in Darfur, he said, where the situation is \\u201creminiscent of the 2004 genocide\\u201d.\\u00a0 Stressing that more effort is urgently needed to ensure that life-saving aid reaches Sudan\\u2019s most vulnerable, he called on the Council to act to alleviate humanitarian suffering through the delivery of aid and to drive the parties towards a ceasefire.\\u00a0 The Council should also renew the mandate of the panel of experts of the Security Council Committee established pursuant to resolution 1591 (2005) concerning Sudan, he added. The representative of Japan, painting a grim picture of the dire humanitarian situation in Sudan, said that a vast proportion of Sudan\\u2019s civilian infrastructure has been destroyed, more than 70\\u00a0per\\u00a0cent of hospitals are non-functional and \\u201cthe risk of famine is not an exaggeration\\u201d.\\u00a0To avoid further devastation, the warring parties must cease hostilities and resume a peaceful political transition towards democratic elections.\\u00a0 Additionally, rapid, safe and unhindered delivery of humanitarian aid is crucial for 24.8\\u00a0million Sudanese in need, he said, calling on both parties to properly engage in coordination efforts.\\u00a0 To scale up aid, both cross-border and crossline mechanisms are critical, he observed, commending the recent decision by the Sudanese Government to facilitate additional cross-border humanitarian access routes.\\u00a0 However, he voiced concern over the increasing difficulty of crossline operations across the two parties\\u2019 control areas. The representative of Sudan, sharing a message he received from the President of the Transitional Sovereignty Council, commended the Secretary-General\\u2019s appeal for the cessation of hostilities during Ramadan.\\u00a0 However, he wondered how such a measure could be implemented when the Rapid Support Forces continue their attacks against civilians.\\u00a0 \\u201cAll those who would like to see that appeal transformed into action are welcome if they would like to present a mechanism for implementation,\\u201d he said. \\u00a0On humanitarian access, he said that the Government has created a high-level committee overseeing relief responses under the Minister for Social Protection. \\u00a0It has been working to facilitate the entry of humanitarian workers, including medical personnel, to ensure the delivery of supplies and services in a safe and organized manner. \\u00a0The Government has also purchased foodstuffs, such as rice, flour, and oil, to support the Sudanese people in the east of Chad region. Additionally, the Government has facilitated the movements of UN agencies and various humanitarian organizations through the creation of coordination mechanisms for their entry and aid deliveries, including a national joint committee for humanitarian emergencies comprising ministers, he said.\\u00a0 A technical mechanism was also established to follow up on the various measures undertaken.\\u00a0The Government also fast-tracked deliveries of all supplies so that they will reach the borders, airports and states where assistance is needed.\\u00a0 Noting that the Government has been granting about 60 visas per week, he said that the requests are reviewed because the information provided is not often sufficient, especially concerning the origin of the party seeking entry.\\u00a0 The Government also provides protection for warehouses and the entry of humanitarian assistance to ensure aid is not pillaged.\\u00a0 A lack of coordination among different partners must be addressed to attract aid and local, regional and international support, he stressed.\\u00a0 Highlighting the over $1\\u00a0billion deficit, 68\\u00a0per\\u00a0cent of the total, in humanitarian funding, he cautioned that 1\\u00a0million Sudanese will not receive aid. __________ * The 9566th Meeting was closed.\",\n          \"While South Sudan is not currently ready to hold elections later this year, they can still take place before the end of the transition period, a senior United Nations official told the Security Council today, as speakers discussed the support necessary for that to happen amid increasing internal and external challenges. \\u201cA myriad of factors will likely affect elections in South Sudan,\\u201d reported Jean-Pierre Lacroix, Under-Secretary-General for Peace Operations, highlighting intensified fights over resources, high unemployment, political competition among the ruling elite, increased intercommunal clashes and the added strain of returnees and refugees escaping the conflict in Sudan. \\u00a0If elections are not managed carefully, there is a \\u201cpotential for violence with disastrous consequences for an already fragile country and the wider region,\\u201d he said. \\u201cAs things stand, South Sudan is not ready for elections and a lot needs to be done\\u201d, he emphasized, adding that \\u2014 if the parties display political will and timely invest adequate resources \\u2014 \\u201ccredible elections can still take place before the end of the transition period\\u201d. \\u00a0The 2018 Revitalized Peace Agreement \\u201cremains the only viable framework to achieve peace and stability in South Sudan\\u201d, having instilled a period of stability at the national level despite shortcomings in its implementation, he observed.\\u00a0\\u00a0 \\u201cIt is now time for all to come together to build on this achievement,\\u201d he urged. \\u00a0To that end, he called on the Government to urgently resource institutions of transition; reach political decisions to complete transitional security arrangements and the constitutional review process; and ensure a level playing field for all parties to participate in elections in a civic and political space that is far more open than currently exists in the country. \\u00a0\\u201cLegitimacy through elections can only be secured if the people of South Sudan believe that their voices were heard,\\u201d he cautioned. Agreeing, the representative of Malta emphasized:\\u00a0\\u201cSafe and inclusive civic and political spaces are essential components to ensure that the people of South Sudan can participate in an environment that is conducive for fair, credible and peaceful elections.\\u201d \\u00a0To this end, she welcomed the support provided by the United Nations Mission in South Sudan (UNMISS), including on a draft code of conduct for political parties, in partnership with the African Union and the Intergovernmental Authority on Development (IGAD). France\\u2019s representative, similarly, stressed that both the opposition and civil society must be able to participate in the electoral process and noted that the UN will play a key role during the electoral period. \\u00a0She also expressed concern that key elements in preparing for such elections are still missing eight months before they are slated to occur, adding that several of these will \\u201ctake time to get up and running\\u201d \\u2014 including the training and redeployment of the necessary unified forces and improving electoral institutions. Also expressing concern over delays were the representatives of the Republic of Korea and the United Kingdom, who joined others in spotlighting the Government\\u2019s role in creating conditions conducive for elections.\\u00a0The latter speaker urged South Sudanese authorities to act immediately on issues including voter registration, the type of election to be called, a permanent constitution and implementation of necessary parts of the Revitalized Peace Agreement. Ecuador\\u2019s representative echoed the need for urgent attention on such issues, also stating that rebuilding key institutions for credible elections in 2024 is essential. \\u00a0Additionally, he voiced alarm over the high number of attacks on civilians, sexual violence and the recruitment of children. \\u00a0Underlining the need to strengthen the legal framework for women\\u2019s rights \\u2014 particularly victims of sexual violence \\u2014 he also called for their empowerment as potential candidates. \\u201cGrave violations against children continue,\\u201d said Slovenia\\u2019s representative, also expressing concern over persistent human-rights violations. \\u00a0Accountability must be ensured, and the Government must take decisive action to ensure justice for victims and survivors. \\u00a0To that end, she welcomed UNMISS\\u2019 efforts to strengthen the capacity of the national justice system and support the deployment of mobile courts. Further on UNMISS\\u2019 role, the representative of Japan, Council President for March, spoke in his national capacity to welcome the Mission\\u2019s efforts to mitigate local tensions and express hope that it will further enhance its mandates to provide technical assistance for elections and protect civilians. \\u00a0Voicing his delegation\\u2019s readiness to work constructively towards the renewal of UNMISS\\u2019 mandate, he stressed the need for the mandate to \\u201cproperly address and accurately reflect the state of preparations for the election\\u201d. Failure to demonstrate political will for free and fair elections may impact future financial support, said the representative of the United States, adding:\\u00a0 \\u201cCredible future funding must be accompanied by a renewed push on the South Sudan peace process and improved humanitarian access.\\u201d \\u00a0He went on to say that intercommunal violence poses \\u201cthe greatest threat to prospects for conducting credible elections\\u201d, calling on the Government to demonstrate its commitment to elections, ensure accountability for violence and facilitate humanitarian aid. \\u201cOur common goal is not to wait for South Sudan to fail in conducting elections and come down on them with criticism but, rather, to accompany them in this complicated process,\\u201d observed the representative of the Russian Federation. \\u00a0Voicing concern over the influx of refugees and returnees from Sudan, she underscored that South Sudan will be unable to cope with this challenging task \\u2014 which requires material support \\u2014 alone. \\u00a0She also pointed out that the sanctions regime imposed on that country makes it challenging to strengthen State security bodies. China\\u2019s representative concurred, highlighting the humanitarian crisis, underlining the need for tangible security-sector assistance and urging the lifting of sanctions against South Sudan. \\u00a0He also opposed a possible expansion of UNMISS\\u2019 mandate, stating that doing so would interfere with the Mission\\u2019s primary peacekeeping task and \\u201cincrease the strain on the resources at the disposal of armies\\u201d. \\u00a0Further, he urged increased international support for South Sudan\\u2019s political process and acknowledged national authorities\\u2019 efforts in preparing for general elections. Switzerland\\u2019s representative, meanwhile, pointed out that the severe humanitarian situation in South Sudan will impact the population\\u2019s participation in elections. \\u00a0The situation will likely deteriorate further due to continuing violence at home and the increased impact of the conflict in Sudan. \\u00a0It also will worsen food security, which is already strained due to the effects of climate change. \\u201cWhile we are focused on the preparations for elections, we must bear in mind that South Sudan is currently home to more than 500,000 returnees and refugees due to the conflict in Sudan,\\u201d urged Mozambique\\u2019s representative, also speaking for Algeria, Guyana and Sierra Leone. \\u00a0This situation is already creating tension and straining diminishing resources within host communities in a country cyclically affected by climate-induced shocks, which increases competition for resources and fuels intercommunal violence. \\u00a0He therefore called on development partners to scale up support for South Sudan to address the spiralling downturn in the country\\u2019s economy during this critical phase of the transition period. \\u201cNation-building is not an easy task,\\u201d stressed the representative of South Sudan, urging that any international involvement \\u201csupport stability and address the true, complex challenges faced by South Sudan\\u201d. \\u00a0Key areas of support include technical assistance and capacity-building for the Government, humanitarian assistance and resilience programmes to promote healing and reconciliation.\\u00a0 She added:\\u00a0 \\u201cSouth Sudan stands at a historical moment and, by working together, we can transform South Sudan \\u2014 a land once torn by conflict \\u2014 into a beacon of hope, resilience and prosperity.\\u201d __________ * The 9563rd Meeting was closed.\",\n          \"United Nations Secretary-General Ant\\u00f3nio Guterres arrived in Geneva late on Sunday, 25\\u00a0February. He travelled to Switzerland to deliver remarks to the opening of the High-level segment of the fifty-fifth session of the Human Rights Council, which took place Monday morning, 26 February. In his remarks, the Secretary-General warned that human rights are the bedrock of peace, and today, both are under attack. \\u00a0He noted that around the world, violence is increasing and conflict-related human rights violations are spreading. The Secretary-General stressed that international humanitarian law is clear: All parties must always distinguish between civilians and combatants.\\u00a0 He pointed out that human rights conventions and humanitarian law are based on cold, hard reality: \\u00a0They recognize that terrorizing civilians and depriving them of food, water, and health care is a recipe for endless anger, alienation, extremism and conflict. \\u00a0He said that today\\u2019s warmongers cannot erase the clear lesson of the past, stressing that protecting human rights protects us all. \\u00a0(See Press Release\\u00a0SG/SM/22137.) In the afternoon, at a\\u00a0press encounter, the Secretary-General was asked about the latest negotiations concerning Gaza, and he stressed that the United Nations continues to call for a humanitarian ceasefire and the immediate and unconditional release of all hostages, adding that nevertheless, we fully support any efforts that will lead to the liberation of hostages and to the reduction of the suffering of the Palestinian people. Before leaving Geneva, the Secretary-General also delivered remarks at the Conference on Disarmament. \\u00a0He noted that despite the current diplomatic deadlock, the central premise behind the Conference on Disarmament remains as vital as ever, stressing that the most effective disarmament tool is inclusive diplomacy. The Secretary-General emphasized that we need that diplomacy urgently, noting that the conference is currently failing in its objective. \\u00a0(See Press Release SG/SM/22139.) While in Geneva, the Secretary-General also held several bilateral meetings.\\u00a0 He met with the President of the Human Rights Council, Omar Zniber, Permanent Representative of Morocco to the United Nations in Geneva; with Volker T\\u00fcrk, the High-Commissioner for Human Rights; with the Minister for Foreign Affairs of Finland,\\u00a0Elina Valtonen; and with the Minister for Foreign Affairs of Viet Nam, Bui Thanh Son. The Secretary-General also had bilateral meetings with the Minister for Foreign Affairs of Iran, Hossein Amir-Abdollahian; the Deputy Prime Minister, Minister for Foreign Affairs of Kazakhstan,\\u00a0Murat Nurtleu; the Deputy Prime Minister and Minister for Foreign Affairs and Expatriates of Jordan, Ayman Safadi; and the Minister for Foreign Affairs of Kuwait, Abdullah Ali Al-Yahya. The Secretary-General also had a meeting with the Ministerial Committee mandated by the Arab-Islamic Extraordinary Summit, as well as with a group of non-governmental organizations. Mr. Guterres returned to New York later that day.\"\n        ],\n        \"semantic_type\": \"\",\n        \"description\": \"\"\n      }\n    }\n  ]\n}",
       "type": "dataframe",
       "variable_name": "headline_df"
      },
      "text/html": [
       "\n",
       "  <div id=\"df-8a559b6e-555c-40eb-af04-b5d40b40898f\" class=\"colab-df-container\">\n",
       "    <div>\n",
       "<style scoped>\n",
       "    .dataframe tbody tr th:only-of-type {\n",
       "        vertical-align: middle;\n",
       "    }\n",
       "\n",
       "    .dataframe tbody tr th {\n",
       "        vertical-align: top;\n",
       "    }\n",
       "\n",
       "    .dataframe thead th {\n",
       "        text-align: right;\n",
       "    }\n",
       "</style>\n",
       "<table border=\"1\" class=\"dataframe\">\n",
       "  <thead>\n",
       "    <tr style=\"text-align: right;\">\n",
       "      <th></th>\n",
       "      <th>headline_date</th>\n",
       "      <th>headline_title</th>\n",
       "      <th>article_link</th>\n",
       "      <th>article_text</th>\n",
       "    </tr>\n",
       "  </thead>\n",
       "  <tbody>\n",
       "    <tr>\n",
       "      <th>0</th>\n",
       "      <td>7 March 2024</td>\n",
       "      <td>Honor Values of Ramadan in Sudan through Cessa...</td>\n",
       "      <td>https://press.un.org/en/2024/sc15613.doc.htm</td>\n",
       "      <td>April will mark one year since the outbreak of...</td>\n",
       "    </tr>\n",
       "    <tr>\n",
       "      <th>1</th>\n",
       "      <td>6 March 2024</td>\n",
       "      <td>Briefing Security Council on Afghanistan, Spec...</td>\n",
       "      <td>https://press.un.org/en/2024/sc15612.doc.htm</td>\n",
       "      <td>Calling for sustained international engagement...</td>\n",
       "    </tr>\n",
       "    <tr>\n",
       "      <th>2</th>\n",
       "      <td>6 March 2024</td>\n",
       "      <td>Hold Managers Responsible for Implementing Sta...</td>\n",
       "      <td>https://press.un.org/en/2024/gaab4453.doc.htm</td>\n",
       "      <td>Managers who don’t implement the recommendatio...</td>\n",
       "    </tr>\n",
       "    <tr>\n",
       "      <th>3</th>\n",
       "      <td>5 March 2024</td>\n",
       "      <td>Veto of Security Council Resolution Calling fo...</td>\n",
       "      <td>https://press.un.org/en/2024/ga12586.doc.htm-0</td>\n",
       "      <td>The use of the Security Council veto by the Un...</td>\n",
       "    </tr>\n",
       "    <tr>\n",
       "      <th>4</th>\n",
       "      <td>5 March 2024</td>\n",
       "      <td>General Assembly: plenary</td>\n",
       "      <td>https://press.un.org/en/2024/ga12586.doc.htm</td>\n",
       "      <td>(Note:  Due to the financial liquidity crisis ...</td>\n",
       "    </tr>\n",
       "    <tr>\n",
       "      <th>5</th>\n",
       "      <td>5 March 2024</td>\n",
       "      <td>If Not Managed Carefully, South Sudan Election...</td>\n",
       "      <td>https://press.un.org/en/2024/sc15611.doc.htm</td>\n",
       "      <td>While South Sudan is not currently ready to ho...</td>\n",
       "    </tr>\n",
       "    <tr>\n",
       "      <th>6</th>\n",
       "      <td>5 March 2024</td>\n",
       "      <td>Fifth Committee Examines $3 Million Financing ...</td>\n",
       "      <td>https://press.un.org/en/2024/gaab4452.doc.htm</td>\n",
       "      <td>The Fifth Committee (Administrative and Budget...</td>\n",
       "    </tr>\n",
       "    <tr>\n",
       "      <th>7</th>\n",
       "      <td>4 March 2024</td>\n",
       "      <td>Amid ‘Catastrophic, Unconscionable, Shameful’ ...</td>\n",
       "      <td>https://press.un.org/en/2024/ga12585.doc.htm</td>\n",
       "      <td>Lamenting the Security Council’s inability to ...</td>\n",
       "    </tr>\n",
       "    <tr>\n",
       "      <th>8</th>\n",
       "      <td>4 March 2024</td>\n",
       "      <td>Syria’s Full Cooperation Essential to Closing ...</td>\n",
       "      <td>https://press.un.org/en/2024/sc15610.doc.htm</td>\n",
       "      <td>Syria’s full cooperation with the Organisation...</td>\n",
       "    </tr>\n",
       "    <tr>\n",
       "      <th>9</th>\n",
       "      <td>7 March 2024</td>\n",
       "      <td>Security Council 2140 Committee Discusses Work...</td>\n",
       "      <td>https://press.un.org/en/2024/sc15614.doc.htm</td>\n",
       "      <td>On 23 February 2024, the Security Council Comm...</td>\n",
       "    </tr>\n",
       "    <tr>\n",
       "      <th>10</th>\n",
       "      <td>7 March 2024</td>\n",
       "      <td>Ramadan Cessation of Hostilities Can Help Stem...</td>\n",
       "      <td>https://press.un.org/en/2024/sgsm22146.doc.htm</td>\n",
       "      <td>Following are UN Secretary-General António Gut...</td>\n",
       "    </tr>\n",
       "    <tr>\n",
       "      <th>11</th>\n",
       "      <td>6 March 2024</td>\n",
       "      <td>Activities of Secretary-General in Switzerland...</td>\n",
       "      <td>https://press.un.org/en/2024/sgt3379.doc.htm</td>\n",
       "      <td>United Nations Secretary-General António Guter...</td>\n",
       "    </tr>\n",
       "    <tr>\n",
       "      <th>12</th>\n",
       "      <td>6 March 2024</td>\n",
       "      <td>Activities of Secretary-General in Qatar, 17-2...</td>\n",
       "      <td>https://press.un.org/en/2024/sgt3378.doc.htm</td>\n",
       "      <td>On his way from Germany to Ethiopia, the plane...</td>\n",
       "    </tr>\n",
       "    <tr>\n",
       "      <th>13</th>\n",
       "      <td>6 March 2024</td>\n",
       "      <td>Activities of Secretary-General in Germany, 14...</td>\n",
       "      <td>https://press.un.org/en/2024/sgt3377.doc.htm</td>\n",
       "      <td>On 14 February, the United Nations Secretary-G...</td>\n",
       "    </tr>\n",
       "    <tr>\n",
       "      <th>14</th>\n",
       "      <td>5 March 2024</td>\n",
       "      <td>Secretary-General appoints Mô Bleeker of Switz...</td>\n",
       "      <td>https://press.un.org/en/2024/sga2271.doc.htm</td>\n",
       "      <td>United Nations Secretary-General António Guter...</td>\n",
       "    </tr>\n",
       "    <tr>\n",
       "      <th>15</th>\n",
       "      <td>5 March 2024</td>\n",
       "      <td>‘There Can Be No Sustainable Development witho...</td>\n",
       "      <td>https://press.un.org/en/2024/dsgsm1893.doc.htm</td>\n",
       "      <td>Following are UN Deputy Secretary-General Amin...</td>\n",
       "    </tr>\n",
       "    <tr>\n",
       "      <th>16</th>\n",
       "      <td>4 March 2024</td>\n",
       "      <td>Secretary-General Appoints Najla Nassif Palma ...</td>\n",
       "      <td>https://press.un.org/en/2024/sga2270.doc.htm</td>\n",
       "      <td>United Nations Secretary-General António Guter...</td>\n",
       "    </tr>\n",
       "    <tr>\n",
       "      <th>17</th>\n",
       "      <td>2 March 2024</td>\n",
       "      <td>Security Council Press Statement on Incident S...</td>\n",
       "      <td>https://press.un.org/en/2024/sc15608.doc.htm</td>\n",
       "      <td>The following Security Council press statement...</td>\n",
       "    </tr>\n",
       "    <tr>\n",
       "      <th>18</th>\n",
       "      <td>1 March 2024</td>\n",
       "      <td>Solidarity Critical to Addressing Climate Emer...</td>\n",
       "      <td>https://press.un.org/en/2024/sgsm22145.doc.htm</td>\n",
       "      <td>Following are UN Secretary-General António Gut...</td>\n",
       "    </tr>\n",
       "  </tbody>\n",
       "</table>\n",
       "</div>\n",
       "    <div class=\"colab-df-buttons\">\n",
       "\n",
       "  <div class=\"colab-df-container\">\n",
       "    <button class=\"colab-df-convert\" onclick=\"convertToInteractive('df-8a559b6e-555c-40eb-af04-b5d40b40898f')\"\n",
       "            title=\"Convert this dataframe to an interactive table.\"\n",
       "            style=\"display:none;\">\n",
       "\n",
       "  <svg xmlns=\"http://www.w3.org/2000/svg\" height=\"24px\" viewBox=\"0 -960 960 960\">\n",
       "    <path d=\"M120-120v-720h720v720H120Zm60-500h600v-160H180v160Zm220 220h160v-160H400v160Zm0 220h160v-160H400v160ZM180-400h160v-160H180v160Zm440 0h160v-160H620v160ZM180-180h160v-160H180v160Zm440 0h160v-160H620v160Z\"/>\n",
       "  </svg>\n",
       "    </button>\n",
       "\n",
       "  <style>\n",
       "    .colab-df-container {\n",
       "      display:flex;\n",
       "      gap: 12px;\n",
       "    }\n",
       "\n",
       "    .colab-df-convert {\n",
       "      background-color: #E8F0FE;\n",
       "      border: none;\n",
       "      border-radius: 50%;\n",
       "      cursor: pointer;\n",
       "      display: none;\n",
       "      fill: #1967D2;\n",
       "      height: 32px;\n",
       "      padding: 0 0 0 0;\n",
       "      width: 32px;\n",
       "    }\n",
       "\n",
       "    .colab-df-convert:hover {\n",
       "      background-color: #E2EBFA;\n",
       "      box-shadow: 0px 1px 2px rgba(60, 64, 67, 0.3), 0px 1px 3px 1px rgba(60, 64, 67, 0.15);\n",
       "      fill: #174EA6;\n",
       "    }\n",
       "\n",
       "    .colab-df-buttons div {\n",
       "      margin-bottom: 4px;\n",
       "    }\n",
       "\n",
       "    [theme=dark] .colab-df-convert {\n",
       "      background-color: #3B4455;\n",
       "      fill: #D2E3FC;\n",
       "    }\n",
       "\n",
       "    [theme=dark] .colab-df-convert:hover {\n",
       "      background-color: #434B5C;\n",
       "      box-shadow: 0px 1px 3px 1px rgba(0, 0, 0, 0.15);\n",
       "      filter: drop-shadow(0px 1px 2px rgba(0, 0, 0, 0.3));\n",
       "      fill: #FFFFFF;\n",
       "    }\n",
       "  </style>\n",
       "\n",
       "    <script>\n",
       "      const buttonEl =\n",
       "        document.querySelector('#df-8a559b6e-555c-40eb-af04-b5d40b40898f button.colab-df-convert');\n",
       "      buttonEl.style.display =\n",
       "        google.colab.kernel.accessAllowed ? 'block' : 'none';\n",
       "\n",
       "      async function convertToInteractive(key) {\n",
       "        const element = document.querySelector('#df-8a559b6e-555c-40eb-af04-b5d40b40898f');\n",
       "        const dataTable =\n",
       "          await google.colab.kernel.invokeFunction('convertToInteractive',\n",
       "                                                    [key], {});\n",
       "        if (!dataTable) return;\n",
       "\n",
       "        const docLinkHtml = 'Like what you see? Visit the ' +\n",
       "          '<a target=\"_blank\" href=https://colab.research.google.com/notebooks/data_table.ipynb>data table notebook</a>'\n",
       "          + ' to learn more about interactive tables.';\n",
       "        element.innerHTML = '';\n",
       "        dataTable['output_type'] = 'display_data';\n",
       "        await google.colab.output.renderOutput(dataTable, element);\n",
       "        const docLink = document.createElement('div');\n",
       "        docLink.innerHTML = docLinkHtml;\n",
       "        element.appendChild(docLink);\n",
       "      }\n",
       "    </script>\n",
       "  </div>\n",
       "\n",
       "\n",
       "<div id=\"df-72607c5c-f573-4e10-880c-7e53887764e8\">\n",
       "  <button class=\"colab-df-quickchart\" onclick=\"quickchart('df-72607c5c-f573-4e10-880c-7e53887764e8')\"\n",
       "            title=\"Suggest charts\"\n",
       "            style=\"display:none;\">\n",
       "\n",
       "<svg xmlns=\"http://www.w3.org/2000/svg\" height=\"24px\"viewBox=\"0 0 24 24\"\n",
       "     width=\"24px\">\n",
       "    <g>\n",
       "        <path d=\"M19 3H5c-1.1 0-2 .9-2 2v14c0 1.1.9 2 2 2h14c1.1 0 2-.9 2-2V5c0-1.1-.9-2-2-2zM9 17H7v-7h2v7zm4 0h-2V7h2v10zm4 0h-2v-4h2v4z\"/>\n",
       "    </g>\n",
       "</svg>\n",
       "  </button>\n",
       "\n",
       "<style>\n",
       "  .colab-df-quickchart {\n",
       "      --bg-color: #E8F0FE;\n",
       "      --fill-color: #1967D2;\n",
       "      --hover-bg-color: #E2EBFA;\n",
       "      --hover-fill-color: #174EA6;\n",
       "      --disabled-fill-color: #AAA;\n",
       "      --disabled-bg-color: #DDD;\n",
       "  }\n",
       "\n",
       "  [theme=dark] .colab-df-quickchart {\n",
       "      --bg-color: #3B4455;\n",
       "      --fill-color: #D2E3FC;\n",
       "      --hover-bg-color: #434B5C;\n",
       "      --hover-fill-color: #FFFFFF;\n",
       "      --disabled-bg-color: #3B4455;\n",
       "      --disabled-fill-color: #666;\n",
       "  }\n",
       "\n",
       "  .colab-df-quickchart {\n",
       "    background-color: var(--bg-color);\n",
       "    border: none;\n",
       "    border-radius: 50%;\n",
       "    cursor: pointer;\n",
       "    display: none;\n",
       "    fill: var(--fill-color);\n",
       "    height: 32px;\n",
       "    padding: 0;\n",
       "    width: 32px;\n",
       "  }\n",
       "\n",
       "  .colab-df-quickchart:hover {\n",
       "    background-color: var(--hover-bg-color);\n",
       "    box-shadow: 0 1px 2px rgba(60, 64, 67, 0.3), 0 1px 3px 1px rgba(60, 64, 67, 0.15);\n",
       "    fill: var(--button-hover-fill-color);\n",
       "  }\n",
       "\n",
       "  .colab-df-quickchart-complete:disabled,\n",
       "  .colab-df-quickchart-complete:disabled:hover {\n",
       "    background-color: var(--disabled-bg-color);\n",
       "    fill: var(--disabled-fill-color);\n",
       "    box-shadow: none;\n",
       "  }\n",
       "\n",
       "  .colab-df-spinner {\n",
       "    border: 2px solid var(--fill-color);\n",
       "    border-color: transparent;\n",
       "    border-bottom-color: var(--fill-color);\n",
       "    animation:\n",
       "      spin 1s steps(1) infinite;\n",
       "  }\n",
       "\n",
       "  @keyframes spin {\n",
       "    0% {\n",
       "      border-color: transparent;\n",
       "      border-bottom-color: var(--fill-color);\n",
       "      border-left-color: var(--fill-color);\n",
       "    }\n",
       "    20% {\n",
       "      border-color: transparent;\n",
       "      border-left-color: var(--fill-color);\n",
       "      border-top-color: var(--fill-color);\n",
       "    }\n",
       "    30% {\n",
       "      border-color: transparent;\n",
       "      border-left-color: var(--fill-color);\n",
       "      border-top-color: var(--fill-color);\n",
       "      border-right-color: var(--fill-color);\n",
       "    }\n",
       "    40% {\n",
       "      border-color: transparent;\n",
       "      border-right-color: var(--fill-color);\n",
       "      border-top-color: var(--fill-color);\n",
       "    }\n",
       "    60% {\n",
       "      border-color: transparent;\n",
       "      border-right-color: var(--fill-color);\n",
       "    }\n",
       "    80% {\n",
       "      border-color: transparent;\n",
       "      border-right-color: var(--fill-color);\n",
       "      border-bottom-color: var(--fill-color);\n",
       "    }\n",
       "    90% {\n",
       "      border-color: transparent;\n",
       "      border-bottom-color: var(--fill-color);\n",
       "    }\n",
       "  }\n",
       "</style>\n",
       "\n",
       "  <script>\n",
       "    async function quickchart(key) {\n",
       "      const quickchartButtonEl =\n",
       "        document.querySelector('#' + key + ' button');\n",
       "      quickchartButtonEl.disabled = true;  // To prevent multiple clicks.\n",
       "      quickchartButtonEl.classList.add('colab-df-spinner');\n",
       "      try {\n",
       "        const charts = await google.colab.kernel.invokeFunction(\n",
       "            'suggestCharts', [key], {});\n",
       "      } catch (error) {\n",
       "        console.error('Error during call to suggestCharts:', error);\n",
       "      }\n",
       "      quickchartButtonEl.classList.remove('colab-df-spinner');\n",
       "      quickchartButtonEl.classList.add('colab-df-quickchart-complete');\n",
       "    }\n",
       "    (() => {\n",
       "      let quickchartButtonEl =\n",
       "        document.querySelector('#df-72607c5c-f573-4e10-880c-7e53887764e8 button');\n",
       "      quickchartButtonEl.style.display =\n",
       "        google.colab.kernel.accessAllowed ? 'block' : 'none';\n",
       "    })();\n",
       "  </script>\n",
       "</div>\n",
       "\n",
       "  <div id=\"id_272e4a19-5797-4862-8736-dbbfd8a67ebd\">\n",
       "    <style>\n",
       "      .colab-df-generate {\n",
       "        background-color: #E8F0FE;\n",
       "        border: none;\n",
       "        border-radius: 50%;\n",
       "        cursor: pointer;\n",
       "        display: none;\n",
       "        fill: #1967D2;\n",
       "        height: 32px;\n",
       "        padding: 0 0 0 0;\n",
       "        width: 32px;\n",
       "      }\n",
       "\n",
       "      .colab-df-generate:hover {\n",
       "        background-color: #E2EBFA;\n",
       "        box-shadow: 0px 1px 2px rgba(60, 64, 67, 0.3), 0px 1px 3px 1px rgba(60, 64, 67, 0.15);\n",
       "        fill: #174EA6;\n",
       "      }\n",
       "\n",
       "      [theme=dark] .colab-df-generate {\n",
       "        background-color: #3B4455;\n",
       "        fill: #D2E3FC;\n",
       "      }\n",
       "\n",
       "      [theme=dark] .colab-df-generate:hover {\n",
       "        background-color: #434B5C;\n",
       "        box-shadow: 0px 1px 3px 1px rgba(0, 0, 0, 0.15);\n",
       "        filter: drop-shadow(0px 1px 2px rgba(0, 0, 0, 0.3));\n",
       "        fill: #FFFFFF;\n",
       "      }\n",
       "    </style>\n",
       "    <button class=\"colab-df-generate\" onclick=\"generateWithVariable('headline_df')\"\n",
       "            title=\"Generate code using this dataframe.\"\n",
       "            style=\"display:none;\">\n",
       "\n",
       "  <svg xmlns=\"http://www.w3.org/2000/svg\" height=\"24px\"viewBox=\"0 0 24 24\"\n",
       "       width=\"24px\">\n",
       "    <path d=\"M7,19H8.4L18.45,9,17,7.55,7,17.6ZM5,21V16.75L18.45,3.32a2,2,0,0,1,2.83,0l1.4,1.43a1.91,1.91,0,0,1,.58,1.4,1.91,1.91,0,0,1-.58,1.4L9.25,21ZM18.45,9,17,7.55Zm-12,3A5.31,5.31,0,0,0,4.9,8.1,5.31,5.31,0,0,0,1,6.5,5.31,5.31,0,0,0,4.9,4.9,5.31,5.31,0,0,0,6.5,1,5.31,5.31,0,0,0,8.1,4.9,5.31,5.31,0,0,0,12,6.5,5.46,5.46,0,0,0,6.5,12Z\"/>\n",
       "  </svg>\n",
       "    </button>\n",
       "    <script>\n",
       "      (() => {\n",
       "      const buttonEl =\n",
       "        document.querySelector('#id_272e4a19-5797-4862-8736-dbbfd8a67ebd button.colab-df-generate');\n",
       "      buttonEl.style.display =\n",
       "        google.colab.kernel.accessAllowed ? 'block' : 'none';\n",
       "\n",
       "      buttonEl.onclick = () => {\n",
       "        google.colab.notebook.generateWithVariable('headline_df');\n",
       "      }\n",
       "      })();\n",
       "    </script>\n",
       "  </div>\n",
       "\n",
       "    </div>\n",
       "  </div>\n"
      ],
      "text/plain": [
       "   headline_date                                     headline_title  \\\n",
       "0   7 March 2024  Honor Values of Ramadan in Sudan through Cessa...   \n",
       "1   6 March 2024  Briefing Security Council on Afghanistan, Spec...   \n",
       "2   6 March 2024  Hold Managers Responsible for Implementing Sta...   \n",
       "3   5 March 2024  Veto of Security Council Resolution Calling fo...   \n",
       "4   5 March 2024                          General Assembly: plenary   \n",
       "5   5 March 2024  If Not Managed Carefully, South Sudan Election...   \n",
       "6   5 March 2024  Fifth Committee Examines $3 Million Financing ...   \n",
       "7   4 March 2024  Amid ‘Catastrophic, Unconscionable, Shameful’ ...   \n",
       "8   4 March 2024  Syria’s Full Cooperation Essential to Closing ...   \n",
       "9   7 March 2024  Security Council 2140 Committee Discusses Work...   \n",
       "10  7 March 2024  Ramadan Cessation of Hostilities Can Help Stem...   \n",
       "11  6 March 2024  Activities of Secretary-General in Switzerland...   \n",
       "12  6 March 2024  Activities of Secretary-General in Qatar, 17-2...   \n",
       "13  6 March 2024  Activities of Secretary-General in Germany, 14...   \n",
       "14  5 March 2024  Secretary-General appoints Mô Bleeker of Switz...   \n",
       "15  5 March 2024  ‘There Can Be No Sustainable Development witho...   \n",
       "16  4 March 2024  Secretary-General Appoints Najla Nassif Palma ...   \n",
       "17  2 March 2024  Security Council Press Statement on Incident S...   \n",
       "18  1 March 2024  Solidarity Critical to Addressing Climate Emer...   \n",
       "\n",
       "                                      article_link  \\\n",
       "0     https://press.un.org/en/2024/sc15613.doc.htm   \n",
       "1     https://press.un.org/en/2024/sc15612.doc.htm   \n",
       "2    https://press.un.org/en/2024/gaab4453.doc.htm   \n",
       "3   https://press.un.org/en/2024/ga12586.doc.htm-0   \n",
       "4     https://press.un.org/en/2024/ga12586.doc.htm   \n",
       "5     https://press.un.org/en/2024/sc15611.doc.htm   \n",
       "6    https://press.un.org/en/2024/gaab4452.doc.htm   \n",
       "7     https://press.un.org/en/2024/ga12585.doc.htm   \n",
       "8     https://press.un.org/en/2024/sc15610.doc.htm   \n",
       "9     https://press.un.org/en/2024/sc15614.doc.htm   \n",
       "10  https://press.un.org/en/2024/sgsm22146.doc.htm   \n",
       "11    https://press.un.org/en/2024/sgt3379.doc.htm   \n",
       "12    https://press.un.org/en/2024/sgt3378.doc.htm   \n",
       "13    https://press.un.org/en/2024/sgt3377.doc.htm   \n",
       "14    https://press.un.org/en/2024/sga2271.doc.htm   \n",
       "15  https://press.un.org/en/2024/dsgsm1893.doc.htm   \n",
       "16    https://press.un.org/en/2024/sga2270.doc.htm   \n",
       "17    https://press.un.org/en/2024/sc15608.doc.htm   \n",
       "18  https://press.un.org/en/2024/sgsm22145.doc.htm   \n",
       "\n",
       "                                         article_text  \n",
       "0   April will mark one year since the outbreak of...  \n",
       "1   Calling for sustained international engagement...  \n",
       "2   Managers who don’t implement the recommendatio...  \n",
       "3   The use of the Security Council veto by the Un...  \n",
       "4   (Note:  Due to the financial liquidity crisis ...  \n",
       "5   While South Sudan is not currently ready to ho...  \n",
       "6   The Fifth Committee (Administrative and Budget...  \n",
       "7   Lamenting the Security Council’s inability to ...  \n",
       "8   Syria’s full cooperation with the Organisation...  \n",
       "9   On 23 February 2024, the Security Council Comm...  \n",
       "10  Following are UN Secretary-General António Gut...  \n",
       "11  United Nations Secretary-General António Guter...  \n",
       "12  On his way from Germany to Ethiopia, the plane...  \n",
       "13  On 14 February, the United Nations Secretary-G...  \n",
       "14  United Nations Secretary-General António Guter...  \n",
       "15  Following are UN Deputy Secretary-General Amin...  \n",
       "16  United Nations Secretary-General António Guter...  \n",
       "17  The following Security Council press statement...  \n",
       "18  Following are UN Secretary-General António Gut...  "
      ]
     },
     "execution_count": 27,
     "metadata": {},
     "output_type": "execute_result"
    }
   ],
   "source": [
    "# Let's add the text to our dataframe\n",
    "headline_df[\"article_text\"] = article_text\n",
    "headline_df"
   ]
  },
  {
   "cell_type": "markdown",
   "metadata": {
    "id": "QNKrZ3h0Iy4a"
   },
   "source": [
    "#**Fin!**"
   ]
  }
 ],
 "metadata": {
  "colab": {
   "collapsed_sections": [
    "9mZC4ch2mXVW",
    "_fsZishwCEbL"
   ],
   "provenance": []
  },
  "kernelspec": {
   "display_name": "Python 3 (ipykernel)",
   "language": "python",
   "name": "python3"
  },
  "language_info": {
   "codemirror_mode": {
    "name": "ipython",
    "version": 3
   },
   "file_extension": ".py",
   "mimetype": "text/x-python",
   "name": "python",
   "nbconvert_exporter": "python",
   "pygments_lexer": "ipython3",
   "version": "3.11.7"
  }
 },
 "nbformat": 4,
 "nbformat_minor": 4
}
